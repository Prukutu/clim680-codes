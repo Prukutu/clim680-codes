{
 "cells": [
  {
   "cell_type": "markdown",
   "metadata": {},
   "source": [
    "# Shifting Longitudes\n",
    "\n",
    "* Sometimes we have data with longitudes as -180 to 180 and want to shift the data to be 0 to 360.  \n",
    "* Sometimes we have data with longitudes as 0 to 360 and want to shift the data to be -180 to 180"
   ]
  },
  {
   "cell_type": "markdown",
   "metadata": {},
   "source": [
    "### Common imports"
   ]
  },
  {
   "cell_type": "code",
   "execution_count": null,
   "metadata": {},
   "outputs": [],
   "source": [
    "import xarray as xr\n",
    "import numpy as np\n",
    "import matplotlib.pyplot as plt"
   ]
  },
  {
   "cell_type": "markdown",
   "metadata": {},
   "source": [
    "### Data\n",
    "\n",
    "HadISST (https://kpegion.github.io/COLA-DATASETS-CATALOG/hadisst.nc)"
   ]
  },
  {
   "cell_type": "code",
   "execution_count": null,
   "metadata": {},
   "outputs": [],
   "source": [
    "path='/home/pdirmeye/classes/clim680_2022/HadISST/'\n",
    "file='HadISST_sst.nc'"
   ]
  },
  {
   "cell_type": "markdown",
   "metadata": {},
   "source": [
    "#### Read in the data using `xarray`"
   ]
  },
  {
   "cell_type": "code",
   "execution_count": null,
   "metadata": {},
   "outputs": [],
   "source": [
    "ds_hadisst = xr.open_dataset(path+file)\n",
    "ds_hadisst"
   ]
  },
  {
   "cell_type": "markdown",
   "metadata": {},
   "source": [
    "#### Plot a specific latitude for a single time so we can check if our longitude shifting works"
   ]
  },
  {
   "cell_type": "code",
   "execution_count": null,
   "metadata": {},
   "outputs": [],
   "source": [
    "sst_check = ds_hadisst['sst'].sel(latitude=0,\n",
    "                                time=ds_hadisst['time'][0],\n",
    "                                method='nearest')\n",
    "plt.plot(ds_hadisst['longitude'],sst_check)\n",
    "plt.title('HADISST -180-180')"
   ]
  },
  {
   "cell_type": "markdown",
   "metadata": {},
   "source": [
    "Note that the longitudes are from -180 to 180"
   ]
  },
  {
   "cell_type": "markdown",
   "metadata": {},
   "source": [
    "#### Change the longitudes to be 0 to 360\n",
    "\n",
    "How would I do this by hand? `new_lons=(lons+360) % 360` (% is the `modulo` function in python)\n",
    "* lons=0; new_lons=360%360=0\n",
    "* lons=180; new_lons=540%360=180\n",
    "* lons=100; new_lons=260%360=100\n",
    "* lons=-100; new_lons=460%360=260"
   ]
  },
  {
   "cell_type": "code",
   "execution_count": null,
   "metadata": {},
   "outputs": [],
   "source": [
    "-100%360"
   ]
  },
  {
   "cell_type": "code",
   "execution_count": null,
   "metadata": {},
   "outputs": [],
   "source": [
    "new_lons = ((ds_hadisst['longitude'] + 360) % 360)\n",
    "new_lons"
   ]
  },
  {
   "cell_type": "code",
   "execution_count": null,
   "metadata": {},
   "outputs": [],
   "source": [
    "ds_hadisst2 = ds_hadisst.assign_coords(longitude=new_lons)\n",
    "ds_hadisst2['longitude']"
   ]
  },
  {
   "cell_type": "markdown",
   "metadata": {},
   "source": [
    "#### The data are out of order in terms of their longitude\n",
    "We can use the `sortby` function to fix this. Note that we are applying this to the entire dataset"
   ]
  },
  {
   "cell_type": "code",
   "execution_count": null,
   "metadata": {},
   "outputs": [],
   "source": [
    "ds_hadisst2 = ds_hadisst2.sortby(ds_hadisst2['longitude'])\n",
    "ds_hadisst2"
   ]
  },
  {
   "cell_type": "code",
   "execution_count": null,
   "metadata": {},
   "outputs": [],
   "source": [
    "sst_check2 = ds_hadisst2['sst'].sel(latitude=0,\n",
    "                                    time=ds_hadisst2['time'][0],\n",
    "                                    method='nearest')\n",
    "plt.plot(ds_hadisst2['longitude'],sst_check2)\n",
    "plt.title('HADISST 0-360')"
   ]
  },
  {
   "cell_type": "markdown",
   "metadata": {},
   "source": [
    "#### We can do this in two lines"
   ]
  },
  {
   "cell_type": "code",
   "execution_count": null,
   "metadata": {},
   "outputs": [],
   "source": [
    "ds_hadisst3 = ds_hadisst.assign_coords(longitude=((ds_hadisst['longitude'] + 360) % 360))\n",
    "ds_hadisst3 = ds_hadisst3.sortby(ds_hadisst3['longitude'])"
   ]
  },
  {
   "cell_type": "code",
   "execution_count": null,
   "metadata": {},
   "outputs": [],
   "source": [
    "sst_check3 = ds_hadisst3['sst'].sel(latitude=0,\n",
    "                                    time=ds_hadisst3['time'][0],\n",
    "                                    method='nearest')\n",
    "plt.plot(ds_hadisst3['longitude'],sst_check3)\n",
    "plt.title('HADISST 0-360 two lines')"
   ]
  },
  {
   "cell_type": "markdown",
   "metadata": {},
   "source": [
    "### Challenge: Shift the longitudes from 0-360 to -180 to 180 "
   ]
  },
  {
   "cell_type": "markdown",
   "metadata": {},
   "source": [
    "You have the HADISST data with longitudes from 0-360 in the variable `ds_hadisst3`\n",
    "\n",
    "To shift data from 0-360 to -180 to 180, the formula is:\n",
    "\n",
    "`new_lon=((lon +180) % 360))-180`\n",
    "\n",
    "Shift the longitudes to -180 to 180, convince yourself it worked by plotting the longitudes for the same latitude and time we plotted before. It should look like our first plot. "
   ]
  },
  {
   "cell_type": "code",
   "execution_count": null,
   "metadata": {},
   "outputs": [],
   "source": [
    "ds_hadisst4 = ds_hadisst3.assign_coords(longitude=(((ds_hadisst3['longitude'] +180) % 360))-180)\n",
    "ds_hadisst4 = ds_hadisst4.sortby(ds_hadisst4['longitude'])"
   ]
  },
  {
   "cell_type": "code",
   "execution_count": null,
   "metadata": {},
   "outputs": [],
   "source": [
    "ds_hadisst4"
   ]
  },
  {
   "cell_type": "code",
   "execution_count": null,
   "metadata": {},
   "outputs": [],
   "source": [
    "sst_check4 = ds_hadisst4['sst'].sel(latitude=0,\n",
    "                                    time=ds_hadisst4['time'][0],\n",
    "                                    method='nearest')\n",
    "plt.plot(ds_hadisst4['longitude'],sst_check4)\n",
    "plt.title('HADISST -180-180 two lines')"
   ]
  }
 ],
 "metadata": {
  "kernelspec": {
   "display_name": "Python 3 (ipykernel)",
   "language": "python",
   "name": "python3"
  },
  "language_info": {
   "codemirror_mode": {
    "name": "ipython",
    "version": 3
   },
   "file_extension": ".py",
   "mimetype": "text/x-python",
   "name": "python",
   "nbconvert_exporter": "python",
   "pygments_lexer": "ipython3",
   "version": "3.8.6"
  }
 },
 "nbformat": 4,
 "nbformat_minor": 4
}
