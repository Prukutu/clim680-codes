{
 "cells": [
  {
   "cell_type": "markdown",
   "metadata": {},
   "source": [
    "## Correlation\n",
    "\n",
    "In climate data analysis we often ask questions about how two things are related to each other. \n",
    "\n",
    "We may have a hypothesis or physical reason why some climate phenomena may be related to or impact another part of the climate system.  We use correlation as a means to quantify this relationship. \n",
    "\n",
    "_Example:_\n",
    "\n",
    "Many studies have explored the relationship between ENSO and other aspects of the climate system.  Last week, we calculated composites of precipitation based on the Nino34 index as a way of seeing how ENSO is related to changes in precipitation.  \n",
    "\n",
    "This week we will use correlation to quantify how precipitation at each point on the globe co-varies linearly with the Nino34 index. "
   ]
  },
  {
   "cell_type": "code",
   "execution_count": null,
   "metadata": {},
   "outputs": [],
   "source": [
    "import xarray as xr\n",
    "import numpy as np\n",
    "import matplotlib.pyplot as plt\n",
    "\n",
    "import cartopy.crs as ccrs\n",
    "import cartopy.mpl.ticker as cticker\n",
    "from cartopy.util import add_cyclic_point\n",
    "\n",
    "import time\n",
    "import warnings\n",
    "warnings.simplefilter(action='ignore', category=FutureWarning)\n",
    "\n",
    "def label_latlon(ax,lons,lats):\n",
    "    \"\"\" Add tick labels \"\"\"\n",
    "    # Define the xticks for longtitude\n",
    "    ax.set_xticks(lons,crs=ccrs.PlateCarree())\n",
    "    lon_formatter=cticker.LongitudeFormatter()\n",
    "    ax.xaxis.set_major_formatter(lon_formatter)\n",
    "\n",
    "    # Define ytick for latitude\n",
    "    ax.set_yticks(lats,crs=ccrs.PlateCarree())\n",
    "    lat_formatter=cticker.LatitudeFormatter()\n",
    "    ax.yaxis.set_major_formatter(lat_formatter)\n",
    "\n",
    "    return"
   ]
  },
  {
   "cell_type": "markdown",
   "metadata": {},
   "source": [
    "### Read in the Nino34 index and precipitation data"
   ]
  },
  {
   "cell_type": "code",
   "execution_count": null,
   "metadata": {},
   "outputs": [],
   "source": [
    "file_nino34='/home/pdirmeye/classes/clim680_2022/nino34_1982-2019.oisstv2_anoms.nc'\n",
    "ds_nino34=xr.open_dataset(file_nino34)\n",
    "\n",
    "file_precip='/home/pdirmeye/classes/clim680_2022/GPCP_precip.mon.mean.nc'\n",
    "ds_precip = xr.open_dataset(file_precip)"
   ]
  },
  {
   "cell_type": "markdown",
   "metadata": {},
   "source": [
    "### Prepare our Precipitation Data"
   ]
  },
  {
   "cell_type": "code",
   "execution_count": null,
   "metadata": {},
   "outputs": [],
   "source": [
    "# Slice time to match Nino34 data\n",
    "da_precip = ds_precip.precip.sel(time=slice(ds_nino34['time'][0],ds_nino34['time'][-1]))\n",
    "\n",
    "da_climo = da_precip.groupby('time.month').mean()\n",
    "da_anoms = da_precip.groupby('time.month')-da_climo\n",
    "da_anoms"
   ]
  },
  {
   "cell_type": "markdown",
   "metadata": {},
   "source": [
    "### Pick a point from our Precipitation Anomalies\n",
    "EQ,180"
   ]
  },
  {
   "cell_type": "code",
   "execution_count": null,
   "metadata": {},
   "outputs": [],
   "source": [
    "pt=da_anoms.sel(lat=0,lon=360-180,method='nearest')\n",
    "pt"
   ]
  },
  {
   "cell_type": "markdown",
   "metadata": {},
   "source": [
    "### Plot the Nino34 index and the point together"
   ]
  },
  {
   "cell_type": "code",
   "execution_count": null,
   "metadata": {},
   "outputs": [],
   "source": [
    "fig, ax1 = plt.subplots()\n",
    "\n",
    "ax2 = ax1.twinx()\n",
    "ax1.plot(pt['time'],pt,'b')\n",
    "ax2.plot(ds_nino34['time'],ds_nino34['sst'],'r')\n",
    "\n",
    "ax1.set_ylabel('Precip. Anomaly [EQ,180˚]  $mm\\;d^{-1}$', color='b')\n",
    "ax2.set_ylabel('Niño3.4 Index', color='r') ;"
   ]
  },
  {
   "cell_type": "markdown",
   "metadata": {},
   "source": [
    "By eye, it sort of looks like the precipitation generally goes up when Niño3.4 goes up and down when Niño3.4 goes down.  We can quantify this using `Correlation Coefficient` or also just called `Correlation`"
   ]
  },
  {
   "cell_type": "markdown",
   "metadata": {},
   "source": [
    "### Correlation Coefficient\n",
    "\n",
    "The standard formula for calculating correlation (also sometimes called Pearson's Correlation) is:\n",
    "\n",
    "$r_{x,y}=\\frac{cov(x,y)}{\\sigma_x\\sigma_y}$, where\n",
    "\n",
    "$ cov(x,y)=\\sum_{i=1}^{n} (x_i-\\bar{x}) (y_i-\\bar{y})$\n",
    "\n",
    "It has a range of -1 to 1.\n",
    "* A value of 1 means the two timeseries are perfectly correlated\n",
    "* A value of -1 means they are perfectly anti-correlated\n",
    "* A value of 0 means they are uncorrelated\n",
    "\n",
    "Typically, in climate, we perform these calculations on anomalies, \n",
    "so we have already removed the means $(\\bar{x},\\bar{y})$, \n",
    "so our correlation equation reduces to:\n",
    "\n",
    "$r_{x,y}=\\frac{\\sum_{i=1}^{n} x_i y_i} {\\sigma_x\\sigma_y}$\n",
    "\n",
    "In our example:\n",
    "\n",
    "* $x$ refers to the Niño3.4 index\n",
    "* $y$ refers to our Precip anomaly at a point\n",
    "* $n$ refers to the number of times (months).   "
   ]
  },
  {
   "cell_type": "markdown",
   "metadata": {},
   "source": [
    "### Calculate Correlation"
   ]
  },
  {
   "cell_type": "markdown",
   "metadata": {},
   "source": [
    "Calculate using the `numpy` function [corrcoef](https://numpy.org/doc/stable/reference/generated/numpy.corrcoef.html)"
   ]
  },
  {
   "cell_type": "code",
   "execution_count": null,
   "metadata": {},
   "outputs": [],
   "source": [
    "R = np.corrcoef(ds_nino34['sst'],pt)\n",
    "R"
   ]
  },
  {
   "cell_type": "markdown",
   "metadata": {},
   "source": [
    "We expect a single number, but we get a matrix. \n",
    "Look at the documentation. \n",
    "This function returns a correlation coefficient `matrix`, meaning a matrix that is the correlation coefficients of:\n",
    "\n",
    "$\n",
    "R = \n",
    "\\begin{bmatrix}\n",
    "r_{xx} & r_{xy} \\\\\n",
    "r_{yx} & r_{yy}\n",
    "\\end{bmatrix}\n",
    "$\n",
    "\n",
    "This can be handy if we are calcuating correlations among many time series, but here we only have two.\n",
    "For our purposes, we can select the element of the correlation coefficient matrix for $r_{xy}$ or $r_{yx}$:"
   ]
  },
  {
   "cell_type": "code",
   "execution_count": null,
   "metadata": {},
   "outputs": [],
   "source": [
    "corr = R[0,1]\n",
    "corr"
   ]
  },
  {
   "cell_type": "markdown",
   "metadata": {},
   "source": [
    "## Correlation over a domain\n",
    "\n",
    "Typically, we don't want just the correlation coefficient for a single point, we want it for all points over a region. \n",
    "\n",
    "For example, we want to make a map so we can identify where precipitation and the Nino34 index are highly correlated. \n",
    "\n",
    "If we have an `xarray.DataArray` we can use the `xarray.corr` function."
   ]
  },
  {
   "cell_type": "code",
   "execution_count": null,
   "metadata": {},
   "outputs": [],
   "source": [
    "xr.corr?"
   ]
  },
  {
   "cell_type": "code",
   "execution_count": null,
   "metadata": {},
   "outputs": [],
   "source": [
    "r_map = xr.corr(ds_nino34['sst'],da_anoms,dim='time')\n",
    "r_map"
   ]
  },
  {
   "cell_type": "markdown",
   "metadata": {},
   "source": [
    "We get back an `xarray.DataArray` corresponding to a map of correlation coefficients. "
   ]
  },
  {
   "cell_type": "markdown",
   "metadata": {},
   "source": [
    "### Plot our correlation map"
   ]
  },
  {
   "cell_type": "code",
   "execution_count": null,
   "metadata": {},
   "outputs": [],
   "source": [
    "clevs=np.arange(-1,1.1,0.1)\n",
    "\n",
    "fig = plt.figure(figsize=(11,8.5))\n",
    "\n",
    "# Set the axes using the specified map projection\n",
    "ax=plt.axes(projection=ccrs.PlateCarree(central_longitude=200))\n",
    "\n",
    "# Add cyclic point\n",
    "data=r_map\n",
    "data,lon=add_cyclic_point(r_map,coord=da_anoms['lon'])\n",
    "\n",
    "# Make a filled contour plot\n",
    "cs=ax.contourf(lon,da_anoms['lat'],\n",
    "            data,clevs,\n",
    "            transform=ccrs.PlateCarree(),\n",
    "            cmap='seismic',extend='both')\n",
    "\n",
    "# Add coastlines\n",
    "ax.coastlines()\n",
    "\n",
    "# Add gridlines\n",
    "ax.gridlines()\n",
    "\n",
    "label_latlon(ax,np.arange(-180,181,60),np.arange(-90,91,30))\n",
    "# Define the xticks for longtitude \n",
    "#ax.set_xticks(np.arange(-180,181,60),crs=ccrs.PlateCarree())\n",
    "#lon_formatter=cticker.LongitudeFormatter()\n",
    "#ax.xaxis.set_major_formatter(lon_formatter)\n",
    "\n",
    "# Define ytick for latitude\n",
    "#ax.set_yticks(np.arange(-90,91,30),crs=ccrs.PlateCarree())\n",
    "#lat_formatter=cticker.LatitudeFormatter()\n",
    "#ax.yaxis.set_major_formatter(lat_formatter)\n",
    "\n",
    "# Call colorbar\n",
    "cbar=plt.colorbar(cs,orientation='horizontal',shrink=0.7,\n",
    "                 label='Correlation Coefficient')\n",
    "\n",
    "# Add title\n",
    "plt.title('Correlation between Nino3.4 and Precipitation Anomalies') ;"
   ]
  },
  {
   "cell_type": "markdown",
   "metadata": {},
   "source": [
    "### Interpreting our Correlation\n",
    "\n",
    "* Red areas indicate that the precipitation goes up with Niño3.4 goes up and down when Nino34 goes down.\n",
    "* Blue area indicate the oppposite: precipitation increases when Niño3.4 decreases and decreases when Niño3.4 increases. \n",
    "* The values near zero indicate no relationship between precipitation anomalies and Niño3.4. \n",
    "\n",
    "### How do we determine how close to zero means there is no relationship vs. a relationship?\n",
    "\n",
    "Calculate statistical significance\n",
    "\n",
    "## Important Reminder\n",
    "\n",
    "You have probably heard the phrase `Correlation is NOT causation`, but what does this mean?\n",
    "\n",
    "It means that just because two variables are highly correlated, does not mean that one variable causes the other one to vary in a certain way.  \n",
    "\n",
    "Attributing cause comes from our understanding of the physical climate system. We have a physical understanding of how ENSO impacts the atmospheric circulation and therefore precipitation. We use correlation as a way to quantify that relationship.  \n",
    "\n",
    "**Always be suspicious of a correlation that makes no sense!** "
   ]
  },
  {
   "cell_type": "markdown",
   "metadata": {},
   "source": [
    "-------------\n",
    "## Statistical Significance of a Correlation"
   ]
  },
  {
   "cell_type": "markdown",
   "metadata": {},
   "source": [
    "The purpose of statistical significance is to ensure we don't make conclusions about results obtained by random chance. \n",
    "We want to be sure that when we find a correlation, there is in fact a likely relationship.\n",
    "\n",
    "Let's calculate statistical significance of the correlation using the `stats` package and another correlation function: `pearsonr`.\n",
    "\n",
    "This function calculates both the correlation coefficient and the p-value indicating it the % chance that we could be wrong about it being different from zero.\n",
    "\n",
    "First, let's look at the help for `pearsonr`\n"
   ]
  },
  {
   "cell_type": "code",
   "execution_count": null,
   "metadata": {},
   "outputs": [],
   "source": [
    "from scipy.stats import pearsonr\n",
    "pearsonr?"
   ]
  },
  {
   "cell_type": "markdown",
   "metadata": {},
   "source": [
    "This will not work, why not: \n",
    "r,p=pearsonr(ds_nino34['sst'],ds_anoms['precip'])"
   ]
  },
  {
   "cell_type": "code",
   "execution_count": null,
   "metadata": {},
   "outputs": [],
   "source": [
    "nx=len(da_anoms['lon'])\n",
    "ny=len(da_anoms['lat'])\n",
    "\n",
    "p_array=np.zeros((ny,nx))\n",
    "r_array=np.zeros((ny,nx))\n",
    "\n",
    "t_start = time.perf_counter()\n",
    "for i in range(nx):\n",
    "    for j in range(ny):\n",
    "        r,p = pearsonr(ds_nino34['sst'],da_anoms[:,j,i])\n",
    "        r_array[j,i] = r\n",
    "        p_array[j,i] = p\n",
    "#r_array.shape\n",
    "print(f\"{time.perf_counter()-t_start:0.2f} s\")"
   ]
  },
  {
   "cell_type": "markdown",
   "metadata": {},
   "source": [
    "### Let's take a peek"
   ]
  },
  {
   "cell_type": "code",
   "execution_count": null,
   "metadata": {},
   "outputs": [],
   "source": [
    "plt.contourf(r_array,cmap='seismic')\n",
    "plt.title(\"Correlations\")\n",
    "plt.colorbar() ;"
   ]
  },
  {
   "cell_type": "code",
   "execution_count": null,
   "metadata": {},
   "outputs": [],
   "source": [
    "plt.contourf(p_array,[0,0.01,0.05,0.1],cmap='Greys_r')\n",
    "plt.title(\"p-Values\")\n",
    "plt.colorbar() ;"
   ]
  },
  {
   "cell_type": "markdown",
   "metadata": {},
   "source": [
    "### Plot our correlation including significance\n",
    "\n",
    "A p-value of 0.05 corresponds to a 5% probability a correlation at that location arose by chance, or to a 95% confidence level."
   ]
  },
  {
   "cell_type": "code",
   "execution_count": null,
   "metadata": {},
   "outputs": [],
   "source": [
    "mask_sig=np.where(p_array<0.05,r_array,np.nan)"
   ]
  },
  {
   "cell_type": "code",
   "execution_count": null,
   "metadata": {},
   "outputs": [],
   "source": [
    "clevs=np.arange(-1,1.1,0.1)\n",
    "\n",
    "fig = plt.figure(figsize=(11,8.5))\n",
    "\n",
    "# Set the axes using the specified map projection\n",
    "ax=plt.axes(projection=ccrs.PlateCarree(central_longitude=180))\n",
    "\n",
    "# Add cyclic point\n",
    "data=r_array\n",
    "data,lon=add_cyclic_point(data,coord=da_anoms['lon'])\n",
    "mask_data,lons=add_cyclic_point(mask_sig,coord=da_anoms['lon'])\n",
    "\n",
    "# Make a filled contour plot\n",
    "cs=ax.contourf(lon,da_anoms['lat'],\n",
    "            data,clevs,\n",
    "            transform=ccrs.PlateCarree(),\n",
    "            cmap='bwr',extend='both')\n",
    "\n",
    "ax.contourf(lon,da_anoms['lat'],mask_data,[0,1],\n",
    "            transform = ccrs.PlateCarree(),colors='None',\n",
    "            hatches=['//','\\\\\\\\'],extend='both',alpha=0)\n",
    "\n",
    "# Add coastlines\n",
    "ax.coastlines()\n",
    "\n",
    "# Add gridlines\n",
    "ax.gridlines()\n",
    "\n",
    "# Define the xticks for longtitude \n",
    "ax.set_xticks(np.arange(-180,181,60),crs=ccrs.PlateCarree())\n",
    "lon_formatter=cticker.LongitudeFormatter()\n",
    "ax.xaxis.set_major_formatter(lon_formatter)\n",
    "\n",
    "# Define ytick for latitude\n",
    "ax.set_yticks(np.arange(-90,91,30),crs=ccrs.PlateCarree())\n",
    "lat_formatter=cticker.LatitudeFormatter()\n",
    "ax.yaxis.set_major_formatter(lat_formatter)\n",
    "\n",
    "# Call colorbar\n",
    "cbar=plt.colorbar(cs,orientation='horizontal',shrink=0.7,\n",
    "                 label='Correlation Coefficient')\n",
    "\n",
    "# Add title\n",
    "plt.title('Correlation between Niño3.4 and Precipitation Anomalies') ;"
   ]
  },
  {
   "cell_type": "markdown",
   "metadata": {
    "tags": []
   },
   "source": [
    "### A Note about Field Significance and False Discovery\n",
    "\n",
    "When looking at a map of correlation, or any statistic, \n",
    "where statistical significance is indicated, keep in mind the definition of significance.\n",
    "\n",
    "At a threshold of $p=0.05$ (95% confidence level), \n",
    "we would expect 5% of locations to appear significant\n",
    "even if the two fields we are correlating are nothing but random noise.\n",
    "How do we account for this?\n",
    "\n",
    "#### 1. Calculate significant area\n",
    "\n",
    "A simple way is to calculate the fraction of the domain that registers as significant. \n",
    "Remember, we generated a mask array `mask_sig` that could be used, summing the areas of grid cells\n",
    "containing valid numbers (remember to weight by `np.cos(lat)`) \n",
    "divided by the sum of all grid cells, also weighted appropriately.\n",
    "\n",
    "#### 2. Control for false discovery\n",
    "\n",
    "There is another way. One can adjust the calculated values of $p$ based on their ranked distribution.  \n",
    "Applied to p values from a correlation between truly random fields, random significance would be removed.\n",
    "For correlations that have genuine field significance, the p values shift up slightly to adjust for \n",
    "the impact of random apparent signficance.\n",
    "\n",
    "Paper discussing the need to \"control for the false discovery rate\" - https://journals.ametsoc.org/view/journals/bams/97/12/bams-d-15-00267.1.xml \n",
    "\n",
    "Blog post explaining thresholding with false discovery rate https://matthew-brett.github.io/teaching/fdr.html\n",
    "\n",
    "Python package with fdr correction (requires Python >= 3.7)\n",
    "https://www.statsmodels.org/dev/generated/statsmodels.stats.multitest.fdrcorrection.html"
   ]
  },
  {
   "cell_type": "code",
   "execution_count": null,
   "metadata": {
    "tags": []
   },
   "outputs": [],
   "source": [
    "from scipy.stats import rankdata\n",
    "\n",
    "def fdr(p_vals):\n",
    "    # from https://stackoverflow.com/questions/25185205/calculating-adjusted-p-values-in-python  \n",
    "    ranked_p_values = rankdata(p_vals)\n",
    "    fdr = p_vals * len(p_vals) / ranked_p_values\n",
    "    fdr[fdr > 1] = 1\n",
    "\n",
    "    return fdr"
   ]
  },
  {
   "cell_type": "code",
   "execution_count": null,
   "metadata": {
    "tags": []
   },
   "outputs": [],
   "source": [
    "# function expecting vector so reshape 2D p value array as vector\n",
    "p_array_vec=np.ravel(p_array, order='C')\n",
    "p_array_corrected_vec=fdr(p_array_vec)\n",
    "# reshape corrected p value vectore back to 2D array\n",
    "p_array_corrected=np.reshape(p_array_corrected_vec, (72,144), order='C')"
   ]
  },
  {
   "cell_type": "code",
   "execution_count": null,
   "metadata": {
    "tags": []
   },
   "outputs": [],
   "source": [
    "plt.plot(p_array_corrected_vec[5170:5199],'*')\n",
    "plt.plot(p_array_vec[5170:5199],'x') \n",
    "plt.legend(['Corrected p','Original p'])\n",
    "plt.title(\"False Discovery Correction\\nAt a Sample of Grid Cells\") ;"
   ]
  },
  {
   "cell_type": "code",
   "execution_count": null,
   "metadata": {
    "tags": []
   },
   "outputs": [],
   "source": [
    "mask_sig2=np.where(p_array_corrected<0.05,r_array,np.nan)\n",
    "\n",
    "clevs=np.arange(-1,1.1,0.1)\n",
    "\n",
    "fig = plt.figure(figsize=(11,8.5))\n",
    "\n",
    "# Set the axes using the specified map projection\n",
    "ax=plt.axes(projection=ccrs.PlateCarree(central_longitude=180))\n",
    "\n",
    "# Add cyclic point\n",
    "data=r_array\n",
    "data,lon=add_cyclic_point(data,coord=da_anoms['lon'])\n",
    "mask_data,lons=add_cyclic_point(mask_sig2,coord=da_anoms['lon'])\n",
    "\n",
    "# Make a filled contour plot\n",
    "cs=ax.contourf(lon,da_anoms['lat'],\n",
    "            data,clevs,\n",
    "            transform=ccrs.PlateCarree(),\n",
    "            cmap='bwr',extend='both')\n",
    "\n",
    "ax.contourf(lon,da_anoms['lat'],mask_data,[0,1],\n",
    "            transform = ccrs.PlateCarree(),colors='None',\n",
    "            hatches=['//','\\\\\\\\'],extend='both',alpha=0)\n",
    "\n",
    "# Add coastlines\n",
    "ax.coastlines()\n",
    "\n",
    "# Add gridlines\n",
    "ax.gridlines()\n",
    "\n",
    "# Define the xticks for longtitude \n",
    "ax.set_xticks(np.arange(-180,181,60),crs=ccrs.PlateCarree())\n",
    "lon_formatter=cticker.LongitudeFormatter()\n",
    "ax.xaxis.set_major_formatter(lon_formatter)\n",
    "\n",
    "# Define ytick for latitude\n",
    "ax.set_yticks(np.arange(-90,91,30),crs=ccrs.PlateCarree())\n",
    "lat_formatter=cticker.LatitudeFormatter()\n",
    "ax.yaxis.set_major_formatter(lat_formatter)\n",
    "\n",
    "# Call colorbar\n",
    "cbar=plt.colorbar(cs,orientation='horizontal',shrink=0.7,\n",
    "                 label='Correlation Coefficient')\n",
    "\n",
    "# Add title\n",
    "plt.title('Correlation between Nino3.4 and Precipitation Anomalies')"
   ]
  },
  {
   "cell_type": "code",
   "execution_count": null,
   "metadata": {},
   "outputs": [],
   "source": []
  }
 ],
 "metadata": {
  "kernelspec": {
   "display_name": "clim_data",
   "language": "python",
   "name": "clim_data"
  },
  "language_info": {
   "codemirror_mode": {
    "name": "ipython",
    "version": 3
   },
   "file_extension": ".py",
   "mimetype": "text/x-python",
   "name": "python",
   "nbconvert_exporter": "python",
   "pygments_lexer": "ipython3",
   "version": "3.10.4"
  }
 },
 "nbformat": 4,
 "nbformat_minor": 4
}
