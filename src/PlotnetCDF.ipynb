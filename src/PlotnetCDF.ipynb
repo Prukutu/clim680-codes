{
 "cells": [
  {
   "cell_type": "code",
   "execution_count": 1,
   "metadata": {},
   "outputs": [],
   "source": [
    "import numpy as np # numerical calclations\n",
    "import xarray as xr # read netcdf files\n",
    "import matplotlib.pyplot as plt # plotting"
   ]
  },
  {
   "cell_type": "code",
   "execution_count": 2,
   "metadata": {},
   "outputs": [],
   "source": [
    "file='/shared/cmip5/data/rcp45/atmos/mon/Amon/tas/NCAR.CCSM4/r1i1p1/tas_Amon_CCSM4_rcp45_r1i1p1_210101-229912.nc'"
   ]
  },
  {
   "cell_type": "code",
   "execution_count": 3,
   "metadata": {},
   "outputs": [],
   "source": [
    "ds=xr.open_dataset(file)"
   ]
  },
  {
   "cell_type": "code",
   "execution_count": 4,
   "metadata": {},
   "outputs": [
    {
     "data": {
      "text/plain": [
       "<xarray.Dataset>\n",
       "Dimensions:    (bnds: 2, lat: 192, lon: 288, time: 2388)\n",
       "Coordinates:\n",
       "  * time       (time) object 2101-01-16 12:00:00 ... 2299-12-16 12:00:00\n",
       "  * lat        (lat) float64 -90.0 -89.06 -88.12 -87.17 ... 88.12 89.06 90.0\n",
       "  * lon        (lon) float64 0.0 1.25 2.5 3.75 5.0 ... 355.0 356.2 357.5 358.8\n",
       "    height     float64 ...\n",
       "Dimensions without coordinates: bnds\n",
       "Data variables:\n",
       "    time_bnds  (time, bnds) object ...\n",
       "    lat_bnds   (lat, bnds) float64 ...\n",
       "    lon_bnds   (lon, bnds) float64 ...\n",
       "    tas        (time, lat, lon) float32 ...\n",
       "Attributes:\n",
       "    institution:                  NCAR (National Center for Atmospheric Resea...\n",
       "    institute_id:                 NCAR\n",
       "    experiment_id:                rcp45\n",
       "    source:                       CCSM4\n",
       "    model_id:                     CCSM4\n",
       "    forcing:                      Sl GHG SS Ds SA BC MD OC Oz AA\n",
       "    parent_experiment_id:         historical\n",
       "    parent_experiment_rip:        r1i1p1\n",
       "    branch_time:                  21.0\n",
       "    contact:                      cesm_data@ucar.edu\n",
       "    comment:                      CESM home page: http://www.cesm.ucar.edu\n",
       "    references:                   Gent P. R., et.al. 2011: The Community Clim...\n",
       "    initialization_method:        1\n",
       "    physics_version:              1\n",
       "    tracking_id:                  64eaa5ca-4b55-4167-94e4-e8b827deb23e\n",
       "    acknowledgements:             The CESM project is supported by the Nation...\n",
       "    cesm_casename:                b40.rcp4_5.2300.001\n",
       "    cesm_repotag:                 cesm1_0_beta08\n",
       "    cesm_compset:                 BRCP45CN\n",
       "    resolution:                   f09_g16 (0.9x1.25_gx1v6)\n",
       "    forcing_note:                 Additional information on the external forc...\n",
       "    processed_by:                 strandwg on mirage3 at 20120603  -121341.236\n",
       "    processing_code_information:  Last Changed Rev: 837 Last Changed Date: 20...\n",
       "    product:                      output\n",
       "    experiment:                   RCP4.5\n",
       "    frequency:                    mon\n",
       "    creation_date:                2012-06-03T18:13:42Z\n",
       "    history:                      2012-06-03T18:13:42Z CMOR rewrote data to c...\n",
       "    Conventions:                  CF-1.4\n",
       "    project_id:                   CMIP5\n",
       "    table_id:                     Table Amon (12 January 2012) 4996d487f7a657...\n",
       "    title:                        CCSM4 model output prepared for CMIP5 RCP4.5\n",
       "    parent_experiment:            historical\n",
       "    modeling_realm:               atmos\n",
       "    realization:                  1\n",
       "    cmor_version:                 2.8.1"
      ]
     },
     "execution_count": 4,
     "metadata": {},
     "output_type": "execute_result"
    }
   ],
   "source": [
    "ds"
   ]
  },
  {
   "cell_type": "code",
   "execution_count": 11,
   "metadata": {},
   "outputs": [
    {
     "data": {
      "text/plain": [
       "<matplotlib.contour.QuadContourSet at 0x7f979c784390>"
      ]
     },
     "execution_count": 11,
     "metadata": {},
     "output_type": "execute_result"
    },
    {
     "data": {
      "image/png": "[encoded data removed]",
      "text/plain": [
       "<Figure size 432x288 with 1 Axes>"
      ]
     },
     "metadata": {
      "needs_background": "light"
     },
     "output_type": "display_data"
    }
   ],
   "source": [
    "plt.contourf(ds['tas'][10,:,:])"
   ]
  },
  {
   "cell_type": "code",
   "execution_count": 12,
   "metadata": {},
   "outputs": [],
   "source": [
    "url='https://psl.noaa.gov/thredds/dodsC/Datasets/cpcsoil/soilw.mon.mean.v2.nc'"
   ]
  },
  {
   "cell_type": "code",
   "execution_count": 13,
   "metadata": {},
   "outputs": [],
   "source": [
    "soilw_ds=xr.open_dataset(url)"
   ]
  },
  {
   "cell_type": "code",
   "execution_count": 14,
   "metadata": {},
   "outputs": [
    {
     "data": {
      "text/plain": [
       "<xarray.Dataset>\n",
       "Dimensions:  (lat: 360, lon: 720, time: 872)\n",
       "Coordinates:\n",
       "  * lat      (lat) float32 89.75 89.25 88.75 88.25 ... -88.75 -89.25 -89.75\n",
       "  * lon      (lon) float32 0.25 0.75 1.25 1.75 ... 358.25 358.75 359.25 359.75\n",
       "  * time     (time) datetime64[ns] 1948-01-01 1948-02-01 ... 2020-08-01\n",
       "Data variables:\n",
       "    soilw    (time, lat, lon) float32 ...\n",
       "Attributes:\n",
       "    Conventions:                     CF-1.0\n",
       "    title:                           CPC Soil Moisture\n",
       "    institution:                     NOAA/ESRL PSD\n",
       "    dataset_title:                   CPC Soil Moisture\n",
       "    history:                         Wed Oct 18 15:13:37 2017: ncks -d time,,...\n",
       "    NCO:                             4.6.9\n",
       "    References:                      https://www.psl.noaa.gov/data/gridded/da...\n",
       "    DODS_EXTRA.Unlimited_Dimension:  time"
      ]
     },
     "execution_count": 14,
     "metadata": {},
     "output_type": "execute_result"
    }
   ],
   "source": [
    "soilw_ds"
   ]
  },
  {
   "cell_type": "code",
   "execution_count": 15,
   "metadata": {},
   "outputs": [
    {
     "data": {
      "text/plain": [
       "<matplotlib.contour.QuadContourSet at 0x7f979c275da0>"
      ]
     },
     "execution_count": 15,
     "metadata": {},
     "output_type": "execute_result"
    },
    {
     "data": {
      "image/png": "[encoded data removed]",
      "text/plain": [
       "<Figure size 432x288 with 1 Axes>"
      ]
     },
     "metadata": {
      "needs_background": "light"
     },
     "output_type": "display_data"
    }
   ],
   "source": [
    "plt.contourf(soilw_ds['soilw'][0,:,:])"
   ]
  },
  {
   "cell_type": "code",
   "execution_count": 18,
   "metadata": {},
   "outputs": [],
   "source": [
    "grbfile='/shared/working/rean/era-interim/daily/data/2010/ei.oper.an.pl.regn128cm.2010010600'\n",
    "grb_ds=xr.open_dataset(grbfile,engine='cfgrib',backend_kwargs={'indexpath':''})"
   ]
  },
  {
   "cell_type": "code",
   "execution_count": 19,
   "metadata": {},
   "outputs": [
    {
     "data": {
      "text/plain": [
       "<xarray.Dataset>\n",
       "Dimensions:        (isobaricInhPa: 37, latitude: 256, longitude: 512)\n",
       "Coordinates:\n",
       "    number         int64 ...\n",
       "    time           datetime64[ns] ...\n",
       "    step           timedelta64[ns] ...\n",
       "  * isobaricInhPa  (isobaricInhPa) int64 1000 975 950 925 900 875 ... 7 5 3 2 1\n",
       "  * latitude       (latitude) float64 89.46 88.77 88.07 ... -88.07 -88.77 -89.46\n",
       "  * longitude      (longitude) float64 0.0 0.7031 1.406 ... 357.9 358.6 359.3\n",
       "    valid_time     datetime64[ns] ...\n",
       "Data variables:\n",
       "    pv             (isobaricInhPa, latitude, longitude) float32 ...\n",
       "    z              (isobaricInhPa, latitude, longitude) float32 ...\n",
       "    t              (isobaricInhPa, latitude, longitude) float32 ...\n",
       "    q              (isobaricInhPa, latitude, longitude) float32 ...\n",
       "    w              (isobaricInhPa, latitude, longitude) float32 ...\n",
       "    vo             (isobaricInhPa, latitude, longitude) float32 ...\n",
       "    d              (isobaricInhPa, latitude, longitude) float32 ...\n",
       "    r              (isobaricInhPa, latitude, longitude) float32 ...\n",
       "    o3             (isobaricInhPa, latitude, longitude) float32 ...\n",
       "    clwc           (isobaricInhPa, latitude, longitude) float32 ...\n",
       "    ciwc           (isobaricInhPa, latitude, longitude) float32 ...\n",
       "    cc             (isobaricInhPa, latitude, longitude) float32 ...\n",
       "    u              (isobaricInhPa, latitude, longitude) float32 ...\n",
       "    v              (isobaricInhPa, latitude, longitude) float32 ...\n",
       "Attributes:\n",
       "    GRIB_edition:            1\n",
       "    GRIB_centre:             ecmf\n",
       "    GRIB_centreDescription:  European Centre for Medium-Range Weather Forecasts\n",
       "    GRIB_subCentre:          0\n",
       "    Conventions:             CF-1.7\n",
       "    institution:             European Centre for Medium-Range Weather Forecasts\n",
       "    history:                 2020-09-10T12:52:41 GRIB to CDM+CF via cfgrib-0...."
      ]
     },
     "execution_count": 19,
     "metadata": {},
     "output_type": "execute_result"
    }
   ],
   "source": [
    "grb_ds"
   ]
  },
  {
   "cell_type": "code",
   "execution_count": 20,
   "metadata": {},
   "outputs": [
    {
     "data": {
      "text/plain": [
       "<matplotlib.contour.QuadContourSet at 0x7f978596f5c0>"
      ]
     },
     "execution_count": 20,
     "metadata": {},
     "output_type": "execute_result"
    },
    {
     "data": {
      "image/png": "[encoded data removed]",
      "text/plain": [
       "<Figure size 432x288 with 1 Axes>"
      ]
     },
     "metadata": {
      "needs_background": "light"
     },
     "output_type": "display_data"
    }
   ],
   "source": [
    "plt.contourf(grb_ds['z'][0,:,:])"
   ]
  },
  {
   "cell_type": "code",
   "execution_count": 21,
   "metadata": {},
   "outputs": [],
   "source": [
    "path='/shared/cmip5/data/rcp45/atmos/mon/Amon/ts/NCAR.CCSM4/r*i1p1/'\n",
    "fname='ts_Amon_CCSM4_rcp45_r*i1p1_200601-210012.nc'\n",
    "mf_ds=xr.open_mfdataset(path+fname,concat_dim='ensemble',combine='nested',decode_times=True)"
   ]
  },
  {
   "cell_type": "code",
   "execution_count": 22,
   "metadata": {},
   "outputs": [
    {
     "data": {
      "text/plain": [
       "<xarray.Dataset>\n",
       "Dimensions:    (bnds: 2, ensemble: 6, lat: 382, lon: 288, time: 1140)\n",
       "Coordinates:\n",
       "  * lon        (lon) float64 0.0 1.25 2.5 3.75 5.0 ... 355.0 356.2 357.5 358.8\n",
       "  * time       (time) object 2006-01-16 12:00:00 ... 2100-12-16 12:00:00\n",
       "  * lat        (lat) float64 -90.0 -89.06 -89.06 -88.12 ... 89.06 89.06 90.0\n",
       "Dimensions without coordinates: bnds, ensemble\n",
       "Data variables:\n",
       "    time_bnds  (ensemble, time, bnds) object dask.array<chunksize=(1, 1140, 2), meta=np.ndarray>\n",
       "    lat_bnds   (ensemble, lat, bnds) float64 dask.array<chunksize=(1, 382, 2), meta=np.ndarray>\n",
       "    lon_bnds   (ensemble, lon, bnds) float64 dask.array<chunksize=(1, 288, 2), meta=np.ndarray>\n",
       "    ts         (ensemble, time, lat, lon) float32 dask.array<chunksize=(1, 1140, 382, 288), meta=np.ndarray>\n",
       "Attributes:\n",
       "    institution:                  NCAR (National Center for Atmospheric Resea...\n",
       "    institute_id:                 NCAR\n",
       "    experiment_id:                rcp45\n",
       "    source:                       CCSM4\n",
       "    model_id:                     CCSM4\n",
       "    forcing:                      Sl GHG Vl SS Ds SA BC MD OC Oz AA\n",
       "    parent_experiment_id:         historical\n",
       "    parent_experiment_rip:        r1i1p1\n",
       "    branch_time:                  2005.0\n",
       "    contact:                      cesm_data@ucar.edu\n",
       "    references:                   Gent P. R., et.al. 2011: The Community Clim...\n",
       "    initialization_method:        1\n",
       "    physics_version:              1\n",
       "    tracking_id:                  635969e3-0203-402b-a58b-e3630cb58a30\n",
       "    acknowledgements:             The CESM project is supported by the Nation...\n",
       "    cesm_casename:                b40.rcp4_5.1deg.001\n",
       "    cesm_repotag:                 ccsm4_0_beta49\n",
       "    cesm_compset:                 BRCP45CN\n",
       "    resolution:                   f09_g16 (0.9x1.25_gx1v6)\n",
       "    forcing_note:                 Additional information on the external forc...\n",
       "    processed_by:                 strandwg on mirage0 at 20111021\n",
       "    processing_code_information:  Last Changed Rev: 428 Last Changed Date: 20...\n",
       "    product:                      output\n",
       "    experiment:                   RCP4.5\n",
       "    frequency:                    mon\n",
       "    creation_date:                2011-10-21T21:56:36Z\n",
       "    history:                      2011-10-21T21:56:36Z CMOR rewrote data to c...\n",
       "    Conventions:                  CF-1.4\n",
       "    project_id:                   CMIP5\n",
       "    table_id:                     Table Amon (26 July 2011) 976b7fd1d9e1be31d...\n",
       "    title:                        CCSM4 model output prepared for CMIP5 RCP4.5\n",
       "    parent_experiment:            historical\n",
       "    modeling_realm:               atmos\n",
       "    realization:                  1\n",
       "    cmor_version:                 2.7.1"
      ]
     },
     "execution_count": 22,
     "metadata": {},
     "output_type": "execute_result"
    }
   ],
   "source": [
    "mf_ds"
   ]
  },
  {
   "cell_type": "code",
   "execution_count": null,
   "metadata": {},
   "outputs": [],
   "source": []
  }
 ],
 "metadata": {
  "kernelspec": {
   "display_name": "Python 3",
   "language": "python",
   "name": "python3"
  },
  "language_info": {
   "codemirror_mode": {
    "name": "ipython",
    "version": 3
   },
   "file_extension": ".py",
   "mimetype": "text/x-python",
   "name": "python",
   "nbconvert_exporter": "python",
   "pygments_lexer": "ipython3",
   "version": "3.7.8"
  }
 },
 "nbformat": 4,
 "nbformat_minor": 4
}
