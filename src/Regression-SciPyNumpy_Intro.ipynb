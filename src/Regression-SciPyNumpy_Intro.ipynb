{
 "cells": [
  {
   "cell_type": "markdown",
   "metadata": {},
   "source": [
    "## Linear Regression \n",
    "\n",
    "*What is linear regression?*\n",
    "\n",
    "Regression is a method to determine the linear relationship between two variables by determining the best fit line between them.  Using this, we are trying to come up with a model or predictive relationship.\n",
    "\n",
    "\n",
    "Remember that the equation for a line is:\n",
    "\n",
    "$y=mx+b$\n",
    "\n",
    "m=slope (sometimes called the regression coefficient)\n",
    "\n",
    "b=y-intercept\n",
    "\n",
    "y=predictand/dependent variable\n",
    "\n",
    "x=predictor/independent variable\n",
    "\n",
    "\n",
    "Linear regression is used to determine the *b* and *m* that defines this best fit line. "
   ]
  },
  {
   "cell_type": "code",
   "execution_count": 14,
   "metadata": {},
   "outputs": [],
   "source": [
    "import xarray as xr\n",
    "import matplotlib.pyplot as plt\n",
    "import numpy as np\n",
    "\n",
    "import cartopy.crs as ccrs\n",
    "import cartopy.mpl.ticker as cticker\n",
    "from cartopy.util import add_cyclic_point"
   ]
  },
  {
   "cell_type": "markdown",
   "metadata": {},
   "source": [
    "#### Let's start with an idealized example first"
   ]
  },
  {
   "cell_type": "code",
   "execution_count": 15,
   "metadata": {},
   "outputs": [],
   "source": [
    "x = np.random.normal(5.0,1.0,200) # (mean, std. deviation, N)\n",
    "m = 3\n",
    "b = 60\n",
    "noise=np.random.normal(5,1.0,200)\n",
    "y = m * x + b + noise"
   ]
  },
  {
   "cell_type": "code",
   "execution_count": 16,
   "metadata": {},
   "outputs": [
    {
     "data": {
      "text/plain": [
       "<matplotlib.collections.PathCollection at 0x7fd7457f4790>"
      ]
     },
     "execution_count": 16,
     "metadata": {},
     "output_type": "execute_result"
    },
    {
     "data": {
      "image/png": "[encoded data removed]",
      "text/plain": [
       "<Figure size 432x288 with 1 Axes>"
      ]
     },
     "metadata": {
      "needs_background": "light"
     },
     "output_type": "display_data"
    }
   ],
   "source": [
    "plt.scatter(x,y)"
   ]
  },
  {
   "cell_type": "markdown",
   "metadata": {},
   "source": [
    "Typicallly, what we have are two timeseries, x and y and we do not know what *m* and *b* are. \n",
    "\n",
    "We use linear regression to determine the *m* and *b* that best fit a line between the two datasets\n",
    "\n",
    "Let's pretend we have *x* and *y* and we don't know what *m* and *b* are."
   ]
  },
  {
   "cell_type": "markdown",
   "metadata": {},
   "source": [
    "### Determine slope and y-intercept using `np.polyfit`\n",
    "\n",
    "https://numpy.org/doc/stable/reference/generated/numpy.polyfit.html\n",
    "\n",
    "`np.polyfit` takes *x* and *y* as input. It also takes as its 3rd argument, the degree of the fit.  For a linear regression problem, the degree is 1.\n",
    "\n",
    "\n",
    "\n",
    "\n",
    "This function is more powerful than just linear regression. It can fit our data to different polynomials.  \n",
    "\n",
    "$p(x) = p_0*x^1 + p_1*x^2 + p_2*x^3 + p_n*x^n$\n",
    "\n",
    "\n",
    "It returns the vector *p* in reverse order, so \n",
    "the highest degree power is first. \n",
    "\n",
    "Here, we will use it only for fitting a line, so in our case, we have:\n",
    "\n",
    "$p(x) = p[1]*x^0 + p[0]*x^1$, where\n",
    "\n",
    "`m=p[0]` (y-intercept)\n",
    "\n",
    "`b=p[1]` (slope)\n"
   ]
  },
  {
   "cell_type": "code",
   "execution_count": 21,
   "metadata": {},
   "outputs": [
    {
     "name": "stdout",
     "output_type": "stream",
     "text": [
      "64.39495647295817 3.103844640741518\n"
     ]
    }
   ],
   "source": [
    "[m_fit,b_fit]=np.polyfit(x,y,1)\n",
    "print(b_fit,m_fit)"
   ]
  },
  {
   "cell_type": "markdown",
   "metadata": {},
   "source": [
    "You will notice, that this is not perfect. There is some roundoff error due to numerical precision. But, its close."
   ]
  },
  {
   "cell_type": "markdown",
   "metadata": {},
   "source": [
    "### Plot the line"
   ]
  },
  {
   "cell_type": "code",
   "execution_count": 22,
   "metadata": {},
   "outputs": [],
   "source": [
    "y_fit=m_fit*x+b_fit"
   ]
  },
  {
   "cell_type": "code",
   "execution_count": 23,
   "metadata": {},
   "outputs": [
    {
     "data": {
      "text/plain": [
       "[<matplotlib.lines.Line2D at 0x7fd7456f6810>]"
      ]
     },
     "execution_count": 23,
     "metadata": {},
     "output_type": "execute_result"
    },
    {
     "data": {
      "image/png": "[encoded data removed]",
      "text/plain": [
       "<Figure size 432x288 with 1 Axes>"
      ]
     },
     "metadata": {
      "needs_background": "light"
     },
     "output_type": "display_data"
    }
   ],
   "source": [
    "plt.scatter(x,y)\n",
    "plt.plot(x,y_fit,'k-')"
   ]
  },
  {
   "cell_type": "markdown",
   "metadata": {},
   "source": [
    "The slope and y-intercept are determined as the line that minimizes the squared vertical distance between the line and each point and then summed over all the points."
   ]
  },
  {
   "cell_type": "markdown",
   "metadata": {},
   "source": [
    "### R-Squared\n",
    "\n",
    "The line does not perfectly represent y. If there is a strong linear relationship, it will represent it well. If not, it may represent it poorly.\n",
    "\n",
    "The part of y, not represented by the line, is called the residual. You can calculate it as\n",
    "\n",
    "$y_{res} = y_{fit}-y$\n",
    "\n",
    "One way we quantify how well the regression line fits the data is to determine the amount of variation (or variance) in *y* can be explained by the dependence on *x* for that regression model. This is called $R^2$.  More formally, it is:\n",
    "\n",
    "$ R^2=1-\\frac{Unexplained Variance}{Total Variance} $\n",
    "\n",
    "* Unexplained Variance is the variance of the residual $y$\n",
    "\n",
    "* Total Variance is the variance of $y_{fit}$\n",
    "\n",
    "* You can multiply by 100 and think of it as the % variance explained by the regression model\n",
    "\n",
    "A larger $R^2$ indicates a better fit and means that the linear regression model (the best fit line) can explain well the variation of the output with different inputs."
   ]
  },
  {
   "cell_type": "code",
   "execution_count": 24,
   "metadata": {},
   "outputs": [
    {
     "data": {
      "text/plain": [
       "0.888956208689452"
      ]
     },
     "execution_count": 24,
     "metadata": {},
     "output_type": "execute_result"
    }
   ],
   "source": [
    "y_res=y_fit-y\n",
    "r_squared=1-(np.var(y_res)/np.var(y))\n",
    "r_squared"
   ]
  },
  {
   "cell_type": "markdown",
   "metadata": {},
   "source": [
    "### We can fit a line to anything, but we shouldn't"
   ]
  },
  {
   "cell_type": "code",
   "execution_count": 25,
   "metadata": {},
   "outputs": [
    {
     "name": "stdout",
     "output_type": "stream",
     "text": [
      "-0.5240044222274274 0.07335716015043145\n"
     ]
    }
   ],
   "source": [
    "y_rand=np.random.randn(len(x)) \n",
    "[m_fit_rand,b_fit_rand]=np.polyfit(x,y_rand,1)\n",
    "y_fit_rand=m_fit_rand*x+b_fit_rand\n",
    "print(b_fit_rand,m_fit_rand)"
   ]
  },
  {
   "cell_type": "code",
   "execution_count": 26,
   "metadata": {},
   "outputs": [
    {
     "data": {
      "text/plain": [
       "[<matplotlib.lines.Line2D at 0x7fd74566f7d0>]"
      ]
     },
     "execution_count": 26,
     "metadata": {},
     "output_type": "execute_result"
    },
    {
     "data": {
      "image/png": "[encoded data removed]",
      "text/plain": [
       "<Figure size 432x288 with 1 Axes>"
      ]
     },
     "metadata": {
      "needs_background": "light"
     },
     "output_type": "display_data"
    }
   ],
   "source": [
    "plt.scatter(x,y_rand)\n",
    "plt.plot(x,y_fit_rand,'k-')"
   ]
  },
  {
   "cell_type": "markdown",
   "metadata": {},
   "source": [
    "R-squared can give us an idea that this line isn't a very good fit to the data"
   ]
  },
  {
   "cell_type": "code",
   "execution_count": 27,
   "metadata": {},
   "outputs": [
    {
     "data": {
      "text/plain": [
       "0.004565255750957897"
      ]
     },
     "execution_count": 27,
     "metadata": {},
     "output_type": "execute_result"
    }
   ],
   "source": [
    "y_res_rand=y_rand-y_fit_rand\n",
    "r_squared_rand=1-(np.var(y_res_rand)/np.var(y_rand))\n",
    "r_squared_rand"
   ]
  },
  {
   "cell_type": "markdown",
   "metadata": {},
   "source": [
    "We may also want to do a significance test to slope is statistically different from zero.\n",
    "\n",
    "This is not easily done using `np.polyfit`"
   ]
  },
  {
   "cell_type": "markdown",
   "metadata": {},
   "source": [
    "### Using scipy\n",
    "\n",
    "`scipy.stats.linregress`\n",
    "\n",
    "https://docs.scipy.org/doc/scipy/reference/generated/scipy.stats.linregress.html"
   ]
  },
  {
   "cell_type": "code",
   "execution_count": 11,
   "metadata": {},
   "outputs": [],
   "source": [
    "from scipy.stats import linregress"
   ]
  },
  {
   "cell_type": "code",
   "execution_count": 12,
   "metadata": {},
   "outputs": [],
   "source": [
    "slope, intercept, r_value, p_value, std_err = linregress(x, y)"
   ]
  },
  {
   "cell_type": "code",
   "execution_count": 33,
   "metadata": {},
   "outputs": [
    {
     "data": {
      "text/plain": [
       "(3.0663591584311853,\n",
       " 64.66961561320795,\n",
       " 0.9541516867853523,\n",
       " 1.1197215667385347e-105,\n",
       " 0.0683618522611586)"
      ]
     },
     "execution_count": 33,
     "metadata": {},
     "output_type": "execute_result"
    }
   ],
   "source": [
    "slope,intercept,r_value,p_value, std_err"
   ]
  },
  {
   "cell_type": "markdown",
   "metadata": {},
   "source": [
    "r_value\n",
    ": this is the correlation coefficient between the linear regression fit ($y_fit$) and the original data ($y$). Square this to get $r^2$.\n",
    "\n",
    "p_value\n",
    ":Two-sided p-value for a hypothesis test whose null hypothesis is that the slope is zero, using Wald Test with t-distribution of the test statistic.\n",
    "\n",
    "std_err\n",
    ": the absolute measure of the typical distance that the data points fall from the regression line "
   ]
  },
  {
   "cell_type": "code",
   "execution_count": 29,
   "metadata": {},
   "outputs": [
    {
     "data": {
      "text/plain": [
       "<matplotlib.legend.Legend at 0x7fd7455d40d0>"
      ]
     },
     "execution_count": 29,
     "metadata": {},
     "output_type": "execute_result"
    },
    {
     "data": {
      "image/png": "[encoded data removed]",
      "text/plain": [
       "<Figure size 432x288 with 1 Axes>"
      ]
     },
     "metadata": {
      "needs_background": "light"
     },
     "output_type": "display_data"
    }
   ],
   "source": [
    "plt.scatter(x, y)\n",
    "plt.plot(x, intercept + slope*x, 'k')\n",
    "plt.legend(['original','fitted'])"
   ]
  },
  {
   "cell_type": "code",
   "execution_count": 32,
   "metadata": {},
   "outputs": [
    {
     "data": {
      "text/plain": [
       "0.9104054413953331"
      ]
     },
     "execution_count": 32,
     "metadata": {},
     "output_type": "execute_result"
    }
   ],
   "source": [
    "r_sq=r_value**2\n",
    "r_sq"
   ]
  }
 ],
 "metadata": {
  "kernelspec": {
   "display_name": "Python (clim680)",
   "language": "python",
   "name": "clim680"
  },
  "language_info": {
   "codemirror_mode": {
    "name": "ipython",
    "version": 3
   },
   "file_extension": ".py",
   "mimetype": "text/x-python",
   "name": "python",
   "nbconvert_exporter": "python",
   "pygments_lexer": "ipython3",
   "version": "3.7.8"
  }
 },
 "nbformat": 4,
 "nbformat_minor": 4
}
