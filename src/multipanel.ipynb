{
 "cells": [
  {
   "cell_type": "code",
   "execution_count": null,
   "metadata": {},
   "outputs": [],
   "source": [
    "import xarray as xr\n",
    "import matplotlib.pyplot as plt\n",
    "import numpy as np\n",
    "\n",
    "import cartopy.crs as ccrs\n",
    "import cartopy.mpl.ticker as cticker\n",
    "from cartopy.util import add_cyclic_point\n",
    "import cartopy.feature as feature"
   ]
  },
  {
   "cell_type": "code",
   "execution_count": null,
   "metadata": {},
   "outputs": [],
   "source": [
    "#Make an empty plot with default projection and coastlines\n",
    "ax = plt.axes(projection=ccrs.PlateCarree())\n",
    "ax.coastlines()"
   ]
  },
  {
   "cell_type": "code",
   "execution_count": null,
   "metadata": {},
   "outputs": [],
   "source": [
    "file='/home/pdirmeye/classes/clim680_2022/OISSTv2/monthly/sst.mnmean.nc'\n",
    "ds=xr.open_dataset(file)\n",
    "ds"
   ]
  },
  {
   "cell_type": "markdown",
   "metadata": {},
   "source": [
    "## Calculate seasonal means"
   ]
  },
  {
   "cell_type": "code",
   "execution_count": null,
   "metadata": {},
   "outputs": [],
   "source": [
    "ds_seas=ds.groupby('time.season').mean()\n",
    "ds_seas"
   ]
  },
  {
   "cell_type": "markdown",
   "metadata": {},
   "source": [
    "### Plot all 4 seasons on the same figure in a 2x2 configuration"
   ]
  },
  {
   "cell_type": "code",
   "execution_count": null,
   "metadata": {},
   "outputs": [],
   "source": [
    "plt.subplot(2,2,1)\n",
    "plt.contourf(ds_seas['sst'].sel(season='DJF'))\n",
    "plt.title('DJF')\n",
    "plt.subplot(2,2,2)\n",
    "plt.contourf(ds_seas['sst'].sel(season='MAM'))\n",
    "plt.title('MAM')\n",
    "plt.subplot(2,2,3)\n",
    "plt.contourf(ds_seas['sst'].sel(season='JJA'))\n",
    "plt.title('JJA')\n",
    "plt.subplot(2,2,4)\n",
    "plt.contourf(ds_seas['sst'].sel(season='SON'))\n",
    "plt.title('SON')\n",
    "plt.colorbar()\n",
    "plt.suptitle('SST (degC)')"
   ]
  },
  {
   "cell_type": "markdown",
   "metadata": {},
   "source": [
    "This was not a very efficient way to plot the four panels, but it worked.\n",
    "\n",
    "We could use a loop to make it more efficient. \n",
    "Also, there is the problem that the color bar has caused the last panel to be compressed.\n",
    "We will deal with that later.\n",
    "\n",
    "First, let's use a loop to plot the panels for each season, and choose colors that seem more appropriate for temperature."
   ]
  },
  {
   "cell_type": "code",
   "execution_count": null,
   "metadata": {},
   "outputs": [],
   "source": [
    "clevs=np.arange(-5,36,5)\n",
    "for i,seas in enumerate(ds_seas['season']):\n",
    "    plt.subplot(2,2,i+1)\n",
    "    plt.contourf(ds_seas['sst'].sel(season=seas),levels=clevs,cmap='RdBu_r')\n",
    "    plt.title(seas.values)\n",
    "    plt.colorbar()\n",
    "plt.suptitle('SST (deg C)')"
   ]
  },
  {
   "cell_type": "markdown",
   "metadata": {},
   "source": [
    "### What if we want to plot on a map projection?  \n",
    "Its a little more complicated.\n",
    "We have to use `plt.subplots`"
   ]
  },
  {
   "cell_type": "code",
   "execution_count": null,
   "metadata": {},
   "outputs": [],
   "source": [
    "# Define the figure and each axis for the 2 rows and 2 columns\n",
    "fig, axs = plt.subplots(nrows=2,ncols=2,\n",
    "                        subplot_kw={'projection': ccrs.PlateCarree()},\n",
    "                        figsize=(11,5.5))\n",
    "\n",
    "# axs is a 2 dimensional array of `GeoAxes`.  \n",
    "# We will flatten it into a 1-D array\n",
    "axs=axs.flatten()\n",
    "\n",
    "#Loop over all of the seasons and plot\n",
    "for i,seas in enumerate(ds_seas['season']):\n",
    "\n",
    "        # Select the season\n",
    "        data=ds_seas['sst'].sel(season=seas)\n",
    "\n",
    "        # Add the cyclic point\n",
    "        data,lons=add_cyclic_point(data,coord=ds_seas['lon'])\n",
    "\n",
    "        # Contour plot\n",
    "        cs=axs[i].contourf(lons,ds_seas['lat'],data,clevs,\n",
    "                          transform = ccrs.PlateCarree(),\n",
    "                          cmap='coolwarm',extend='both')\n",
    "\n",
    "        # Title each subplot with the name of the model\n",
    "        axs[i].set_title(seas.values)\n",
    "\n",
    "        # Draw the coastines for each subplot\n",
    "        axs[i].coastlines()"
   ]
  },
  {
   "cell_type": "markdown",
   "metadata": {},
   "source": [
    "### Now lets make it look nicer \n",
    "* adding a single colorbar \n",
    "* add a big title\n",
    "* label our lats and lons"
   ]
  },
  {
   "cell_type": "code",
   "execution_count": null,
   "metadata": {},
   "outputs": [],
   "source": [
    "# Define the figure and each axis for the 2 rows and 2 columns\n",
    "fig, axs = plt.subplots(nrows=2,ncols=2,\n",
    "                        subplot_kw={'projection': ccrs.PlateCarree()},\n",
    "                        figsize=(11,8.5))\n",
    "\n",
    "# axs is a 2 dimensional array of `GeoAxes`.  \n",
    "# We will flatten it into a 1-D array\n",
    "axs=axs.flatten()\n",
    "\n",
    "#Loop over all of the seasons and plot\n",
    "for i,seas in enumerate(ds_seas['season']):\n",
    "\n",
    "        # Select the season\n",
    "        data=ds_seas['sst'].sel(season=seas)\n",
    "\n",
    "        # Add the cyclic point\n",
    "        data,lons=add_cyclic_point(data,coord=ds_seas['lon'])\n",
    "\n",
    "        # Contour plot\n",
    "        cs=axs[i].contourf(lons,ds_seas['lat'],data,clevs,\n",
    "                          transform = ccrs.PlateCarree(),\n",
    "                          cmap='coolwarm',extend='both')\n",
    "\n",
    "       # Longitude labels\n",
    "        axs[i].set_xticks(np.arange(-180,181,60), crs=ccrs.PlateCarree())\n",
    "        lon_formatter = cticker.LongitudeFormatter()\n",
    "        axs[i].xaxis.set_major_formatter(lon_formatter)\n",
    "\n",
    "        # Latitude labels\n",
    "        axs[i].set_yticks(np.arange(-90,91,30), crs=ccrs.PlateCarree())\n",
    "        lat_formatter = cticker.LatitudeFormatter()\n",
    "        axs[i].yaxis.set_major_formatter(lat_formatter)\n",
    "\n",
    "        # Title each subplot with the name of the season\n",
    "        axs[i].set_title(seas.values)\n",
    "\n",
    "        # Draw the coastines for each subplot\n",
    "        axs[i].coastlines()\n",
    "        \n",
    "# Adjust the location of the subplots \n",
    "# on the page to make room for the colorbar\n",
    "fig.subplots_adjust(bottom=0.25, top=0.9, left=0.05, right=0.95,\n",
    "                    wspace=0.2, hspace=0.25)\n",
    "\n",
    "# Add a colorbar axis at the bottom of the graph\n",
    "cbar_ax = fig.add_axes([0.2, 0.175, 0.6, 0.02])\n",
    "\n",
    "# Draw the colorbar\n",
    "cbar=fig.colorbar(cs, cax=cbar_ax,orientation='horizontal',label='˚C')\n",
    "\n",
    "# Add a big title at the top\n",
    "plt.suptitle('Sea Surface Temperature from OISSTv3',fontsize=20)"
   ]
  },
  {
   "cell_type": "markdown",
   "metadata": {},
   "source": [
    "### Faceting\n",
    "Faceting allows you to plot subplots across the dimensios of an `xarray.Dataset` using many fewer lines of code. It uses the metadata to default label the subplots for you and makes a single colorbar for all subplots.\n",
    "Take a look at the [documentation](https://docs.xarray.dev/en/stable/user-guide/plotting.html#plotting-faceting)."
   ]
  },
  {
   "cell_type": "code",
   "execution_count": null,
   "metadata": {},
   "outputs": [],
   "source": [
    "fig = plt.figure(figsize=(11,8.5))\n",
    "\n",
    "fg = ds_seas['sst'].plot(x='lon',y='lat',col='season',col_wrap=2,\n",
    "    levels=clevs,cmap='RdBu_r',extend='both',\n",
    "    subplot_kws={\"projection\": ccrs.PlateCarree()},\n",
    "    cbar_kwargs={\n",
    "        \"orientation\": \"horizontal\",\n",
    "        \"shrink\": 0.8,\n",
    "        \"aspect\": 40,\n",
    "        \"label\": \"Temperature [˚C]\",\n",
    "    },)\n",
    "\n",
    "for ax in fg.axes.flat:\n",
    "    ax.coastlines()\n",
    "    ax.add_feature(feature.LAND, zorder=2, color='#D5DCC9')\n",
    "    "
   ]
  },
  {
   "cell_type": "code",
   "execution_count": null,
   "metadata": {},
   "outputs": [],
   "source": []
  }
 ],
 "metadata": {
  "kernelspec": {
   "display_name": "clim_data",
   "language": "python",
   "name": "clim_data"
  },
  "language_info": {
   "codemirror_mode": {
    "name": "ipython",
    "version": 3
   },
   "file_extension": ".py",
   "mimetype": "text/x-python",
   "name": "python",
   "nbconvert_exporter": "python",
   "pygments_lexer": "ipython3",
   "version": "3.10.4"
  }
 },
 "nbformat": 4,
 "nbformat_minor": 4
}
