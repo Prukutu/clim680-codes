{
 "cells": [
  {
   "cell_type": "markdown",
   "metadata": {},
   "source": [
    "### Calculating a Composite\n",
    "\n",
    "What is a composite?  mean of a field conditioned on the value of another field.\n",
    "\n",
    "_Example:_\n",
    "\n",
    "We have heard that ENSO changes atmospheric circulation and impacts precipitation and temperature globally.  We can explore this using composites. \n",
    "\n",
    "_Specific statement of the problem:_ \n",
    "\n",
    "What are the precipitation anomalies during El Nino vs. Neutral vs. La Nina and how are they different?"
   ]
  },
  {
   "cell_type": "code",
   "execution_count": null,
   "metadata": {},
   "outputs": [],
   "source": [
    "import xarray as xr\n",
    "import matplotlib.pyplot as plt\n",
    "import numpy as np\n",
    "\n",
    "import cartopy.crs as ccrs\n",
    "import cartopy.mpl.ticker as cticker\n",
    "from cartopy.util import add_cyclic_point"
   ]
  },
  {
   "cell_type": "markdown",
   "metadata": {},
   "source": [
    "#### ENSO\n",
    "\n",
    "We have an index called Nino3.4 that quantifies ENSO.  When it is large and positive, we say there is an El Nino.  When it is large and negative, we say there is a La Nina.  In between, we say it is neutral.\n",
    "\n",
    "Nino3.4 is calculated at the SST anomalies in a particular region in the Tropical Pacific.  We calculated this previously using the NOAA OISST data and then Subsetting, Groupby, and Aggregating. I wrote this data to a file:\n",
    "\n",
    "`/scratch/kpegion/nino34_1982-2019.oisstv2_anoms.nc`"
   ]
  },
  {
   "cell_type": "code",
   "execution_count": null,
   "metadata": {},
   "outputs": [],
   "source": [
    "file_nino34 = '/home/lortizur/clim680//nino34_1982-2019.oisstv2_anoms.nc'\n",
    "ds_nino34 = xr.open_dataset(file_nino34)\n",
    "ds_nino34"
   ]
  },
  {
   "cell_type": "markdown",
   "metadata": {},
   "source": [
    "This data goes from 1982-2019\n",
    "\n",
    "We can plot it as a timeseries"
   ]
  },
  {
   "cell_type": "code",
   "execution_count": null,
   "metadata": {},
   "outputs": [],
   "source": [
    "plt.plot(ds_nino34['time'],ds_nino34['sst']) ;"
   ]
  },
  {
   "cell_type": "markdown",
   "metadata": {},
   "source": [
    "### Defining El Nino, La Nina, and Neutral\n",
    "\n",
    "Nino3.4 >= 1 -> El Nino\n",
    "\n",
    "Nino3.4 <= -1 -> La Nina\n",
    "\n",
    "Nino3.4 > -1 and Nino3.4 < 1 -> Neutral"
   ]
  },
  {
   "cell_type": "code",
   "execution_count": null,
   "metadata": {},
   "outputs": [],
   "source": [
    "elnino = ds_nino34['sst'].where(ds_nino34['sst']>=1) # nans where false and unaltered where true if only first parameter given\n",
    "lanina = ds_nino34['sst'].where(ds_nino34['sst']<=-1)\n",
    "neutral = ds_nino34['sst'].where((ds_nino34['sst']>-1) & (ds_nino34['sst']<1))"
   ]
  },
  {
   "cell_type": "code",
   "execution_count": null,
   "metadata": {},
   "outputs": [],
   "source": [
    "plt.plot(ds_nino34['time'],elnino,'r^')\n",
    "plt.plot(ds_nino34['time'],lanina,'bv')\n",
    "plt.plot(ds_nino34['time'],neutral,'go') ;"
   ]
  },
  {
   "cell_type": "markdown",
   "metadata": {},
   "source": [
    "#### How many months do we have with El Nino, La Nina, and Neutral?"
   ]
  },
  {
   "cell_type": "code",
   "execution_count": null,
   "metadata": {},
   "outputs": [],
   "source": [
    "print('El Nino: ',elnino.count(dim='time').values)\n",
    "print('Neutral: ',neutral.count(dim='time').values)\n",
    "print('La Nina: ',lanina.count(dim='time').values)\n",
    "\n",
    "counts=[elnino.count(dim='time').values,\n",
    "        neutral.count(dim='time').values,\n",
    "        lanina.count(dim='time').values]\n",
    "print(counts)"
   ]
  },
  {
   "cell_type": "markdown",
   "metadata": {},
   "source": [
    "#### Let's get a little fancier"
   ]
  },
  {
   "cell_type": "code",
   "execution_count": null,
   "metadata": {},
   "outputs": [],
   "source": [
    "plt.plot(ds_nino34['time'],ds_nino34['sst'],'k')\n",
    "plt.fill_between(ds_nino34['time'].values,ds_nino34['sst'],color='lightgreen')\n",
    "plt.fill_between(ds_nino34['time'].values,elnino,y2=1.0,color='red')\n",
    "plt.fill_between(ds_nino34['time'].values,lanina,y2=-1.0,color='blue')\n",
    "plt.axhline(0,color='black',linewidth=0.5)\n",
    "plt.axhline(1,color='black',linewidth=0.5,linestyle='dotted')\n",
    "plt.axhline(-1,color='black',linewidth=0.5,linestyle='dotted') ;"
   ]
  },
  {
   "cell_type": "markdown",
   "metadata": {},
   "source": [
    "### Precipitation Data\n",
    "\n",
    "We will use the Global Precipitation Climatology Project (GPCP) Monthly Precipitation Data located in:\n",
    "\n",
    "`/shared/obs/gridded/GPCP/monthly/precip.mon.mean.nc`"
   ]
  },
  {
   "cell_type": "code",
   "execution_count": null,
   "metadata": {},
   "outputs": [],
   "source": [
    "file='/home/lortizur/clim680//GPCP_precip.mon.mean.nc'\n",
    "ds_precip = xr.open_dataset(file)\n",
    "ds_precip"
   ]
  },
  {
   "cell_type": "markdown",
   "metadata": {},
   "source": [
    "This data goes from 1979-2020.  Let's select the same times as the nino34 data."
   ]
  },
  {
   "cell_type": "code",
   "execution_count": null,
   "metadata": {},
   "outputs": [],
   "source": [
    "da_precip = ds_precip.precip.sel(time=slice(ds_nino34['time'][0],ds_nino34['time'][-1]))\n",
    "da_precip"
   ]
  },
  {
   "cell_type": "markdown",
   "metadata": {},
   "source": [
    "### We need to make anomalies of our precipitation"
   ]
  },
  {
   "cell_type": "code",
   "execution_count": null,
   "metadata": {},
   "outputs": [],
   "source": [
    "da_climo = da_precip.groupby('time.month').mean()\n",
    "da_anoms = da_precip.groupby('time.month')-da_climo\n",
    "da_anoms"
   ]
  },
  {
   "cell_type": "markdown",
   "metadata": {},
   "source": [
    "### Now we can select the dates that match El Nino, La Nina, and Neutral"
   ]
  },
  {
   "cell_type": "code",
   "execution_count": null,
   "metadata": {},
   "outputs": [],
   "source": [
    "elnino_precip = da_anoms.sel(time=elnino.dropna(dim='time')['time']).mean(dim='time')\n",
    "lanina_precip = da_anoms.sel(time=lanina.dropna(dim='time')['time']).mean(dim='time')\n",
    "neutral_precip = da_anoms.sel(time=neutral.dropna(dim='time')['time']).mean(dim='time')\n",
    "\n",
    "comp_precip = [elnino_precip,lanina_precip,neutral_precip]\n",
    "comp_precip"
   ]
  },
  {
   "cell_type": "code",
   "execution_count": null,
   "metadata": {},
   "outputs": [],
   "source": [
    "labels=['El Nino','La Nina', 'Neutral']\n",
    "clevs = np.arange(-2.0,2.1,0.25)\n",
    "\n",
    "# Define the figure and each axis for the 3 rows and 3 columns\n",
    "fig, axs = plt.subplots(nrows=3,ncols=1,\n",
    "                        subplot_kw={'projection': ccrs.PlateCarree()},\n",
    "                        figsize=(8.5,11))\n",
    "\n",
    "# axs is a 2 dimensional array of `GeoAxes`.  \n",
    "# We will flatten it into a 1-D array (just 3 rows)\n",
    "axs = axs.flatten()\n",
    "\n",
    "#Loop over all of the seasons and plot\n",
    "for i,enso in enumerate(comp_precip):\n",
    "\n",
    "        # Select the season\n",
    "        data = comp_precip[i]\n",
    "\n",
    "        # Add the cyclic point\n",
    "        data,lons = add_cyclic_point(data,coord=comp_precip[i]['lon'])\n",
    "\n",
    "        # Contour plot\n",
    "        cs=axs[i].contourf(lons,comp_precip[i]['lat'],data,clevs,\n",
    "                          transform = ccrs.PlateCarree(),\n",
    "                          cmap='BrBG',extend='both')\n",
    "\n",
    "       # Longitude labels\n",
    "        axs[i].set_xticks(np.arange(-180,181,60), crs=ccrs.PlateCarree())\n",
    "        lon_formatter = cticker.LongitudeFormatter()\n",
    "        axs[i].xaxis.set_major_formatter(lon_formatter)\n",
    "\n",
    "        # Latitude labels\n",
    "        axs[i].set_yticks(np.arange(-90,91,30), crs=ccrs.PlateCarree())\n",
    "        lat_formatter = cticker.LatitudeFormatter()\n",
    "        axs[i].yaxis.set_major_formatter(lat_formatter)\n",
    "\n",
    "        \n",
    "        # Title each subplot with the name of the season\n",
    "        axs[i].set_title(labels[i]+' ('+str(counts[i])+')')\n",
    "\n",
    "        # Draw the coastines for each subplot\n",
    "        axs[i].coastlines()\n",
    "        \n",
    "# Adjust the location of the subplots \n",
    "# on the page to make room for the colorbar\n",
    "fig.subplots_adjust(bottom=0.25, top=0.9, left=0.05, right=0.95,\n",
    "                    wspace=0.1, hspace=0.5)\n",
    "\n",
    "# Add a colorbar axis at the bottom of the graph\n",
    "cbar_ax = fig.add_axes([0.25, 0.18, 0.5, 0.012])\n",
    "\n",
    "# Draw the colorbar\n",
    "cbar = fig.colorbar(cs,cax=cbar_ax,orientation='horizontal',label='mm/day')\n",
    "\n",
    "# Add a big title at the top\n",
    "plt.suptitle('Composite Precipitation Anomalies during ENSO') ;"
   ]
  },
  {
   "cell_type": "markdown",
   "metadata": {},
   "source": [
    "### Checking and understanding our Composites\n",
    " \n",
    "Pick some points and make a scatter plot with the Nino34 index\n",
    "\n",
    "* High Composite Value (EQ, 120W)\n",
    "* Medium Composite Value (30N, 90W)\n",
    "* Low Composite Value (40N, 90W)"
   ]
  },
  {
   "cell_type": "markdown",
   "metadata": {},
   "source": [
    "__High Composite__"
   ]
  },
  {
   "cell_type": "code",
   "execution_count": null,
   "metadata": {},
   "outputs": [],
   "source": [
    "pt = da_anoms.sel(lat=0,lon=360-120,method='nearest')\n",
    "plt.scatter(pt,ds_nino34['sst'],s=np.abs(2*pt)+1)\n",
    "plt.xlim([-5,15])\n",
    "plt.ylim([-3,3])\n",
    "plt.xlabel('Precip Anoms at (EQ,120W) [$mm\\;day^{-1}$]')\n",
    "plt.ylabel('Niño34 Index')\n",
    "\n",
    "m,b = np.linalg.lstsq(np.vstack([pt.values, np.ones(len(pt.values))]).T,ds_nino34['sst'].values,rcond=None)[0]\n",
    "plt.plot(pt, m*pt + b, 'r', label='Fitted line')\n",
    "\n",
    "plt.axvline(0,color='darkturquoise',linewidth=0.5)\n",
    "plt.axhline(1,color='black',linewidth=0.5,linestyle='dotted')\n",
    "plt.axhline(0,color='black',linewidth=0.5)\n",
    "plt.axhline(-1,color='black',linewidth=0.5,linestyle='dotted') ;"
   ]
  },
  {
   "cell_type": "markdown",
   "metadata": {},
   "source": [
    "In this case, the composite identifies that high values of Nino34 are associated \n",
    "with high values of precipitation anomalies in this region, especially for positive values.  \n",
    "\n",
    "The red line is the _linear regression_ of precipitaiton anomalies on Niño34 index.\n",
    "We will learn more about linear regression later in the course.\n",
    "\n",
    "Compositing does not make any assumptions about how our two datasets are related. "
   ]
  },
  {
   "cell_type": "markdown",
   "metadata": {},
   "source": [
    "__Medium Composite__"
   ]
  },
  {
   "cell_type": "code",
   "execution_count": null,
   "metadata": {},
   "outputs": [],
   "source": [
    "pt=da_anoms.sel(lat=30,lon=360-90,method='nearest')\n",
    "plt.scatter(pt,ds_nino34['sst'],s=np.abs(2*pt)+1)\n",
    "plt.xlim([-5,15])\n",
    "plt.ylim([-3,3])\n",
    "plt.xlabel('Precip Anoms at (EQ,120W) [$mm\\;day^{-1}$]')\n",
    "plt.ylabel('Niño34 Index')\n",
    "\n",
    "m,b = np.linalg.lstsq(np.vstack([pt.values, np.ones(len(pt.values))]).T,ds_nino34['sst'].values,rcond=None)[0]\n",
    "plt.plot(pt, m*pt + b, 'r', label='Fitted line')\n",
    "\n",
    "plt.axvline(0,color='darkturquoise',linewidth=0.5)\n",
    "plt.axhline(1,color='black',linewidth=0.5,linestyle='dotted')\n",
    "plt.axhline(0,color='black',linewidth=0.5)\n",
    "plt.axhline(-1,color='black',linewidth=0.5,linestyle='dotted') ;"
   ]
  },
  {
   "cell_type": "markdown",
   "metadata": {},
   "source": [
    "__Low Composite__"
   ]
  },
  {
   "cell_type": "code",
   "execution_count": null,
   "metadata": {},
   "outputs": [],
   "source": [
    "pt=da_anoms.sel(lat=40,lon=360-90,method='nearest')\n",
    "plt.scatter(pt,ds_nino34['sst'],s=np.abs(2*pt)+1)\n",
    "plt.xlim([-5,15])\n",
    "plt.ylim([-3,3])\n",
    "plt.xlabel('Precip Anoms at (EQ,120W) [$mm\\;day^{-1}$]')\n",
    "plt.ylabel('Niño34 Index')\n",
    "\n",
    "m,b = np.linalg.lstsq(np.vstack([pt.values, np.ones(len(pt.values))]).T,ds_nino34['sst'].values,rcond=None)[0]\n",
    "plt.plot(pt, m*pt + b, 'r', label='Fitted line')\n",
    "\n",
    "plt.axvline(0,color='darkturquoise',linewidth=0.5)\n",
    "plt.axhline(1,color='black',linewidth=0.5,linestyle='dotted')\n",
    "plt.axhline(0,color='black',linewidth=0.5)\n",
    "plt.axhline(-1,color='black',linewidth=0.5,linestyle='dotted') ;"
   ]
  },
  {
   "cell_type": "markdown",
   "metadata": {},
   "source": [
    "You can see that the fit between precipitaiton anomalies on Niño34 indexprecipitaiton anomalies on Niño34 index\n",
    "becomes weaker as progress from point to point. The line is flatter and the scatter appears more uniform and random.\n",
    "\n",
    "\n",
    "### Interpreting a composite\n",
    "\n",
    "* What kind of questions can a composite answer?\n",
    "* Why should we be careful about comparing El Nino or La Nina with Neutral?\n",
    "* How could we made this comparison better?\n",
    "* In what situation might a composite be misleading?"
   ]
  },
  {
   "cell_type": "markdown",
   "metadata": {},
   "source": [
    "### Summary & Key Points"
   ]
  },
  {
   "cell_type": "markdown",
   "metadata": {},
   "source": [
    "* A composite is a mean made based on a certain condition.\n",
    "* We can make composites using the `xr.where` function.\n",
    "* A composite does not make any assumptions about how two datasets are related.\n",
    "* We need to be aware of outliers, variability, and sample size when making composites.\n",
    "* There remains variability that is not considered in a composite.\n"
   ]
  },
  {
   "cell_type": "code",
   "execution_count": null,
   "metadata": {},
   "outputs": [],
   "source": []
  }
 ],
 "metadata": {
  "kernelspec": {
   "display_name": "clim_data",
   "language": "python",
   "name": "clim_data"
  },
  "language_info": {
   "codemirror_mode": {
    "name": "ipython",
    "version": 3
   },
   "file_extension": ".py",
   "mimetype": "text/x-python",
   "name": "python",
   "nbconvert_exporter": "python",
   "pygments_lexer": "ipython3",
   "version": "3.10.4"
  }
 },
 "nbformat": 4,
 "nbformat_minor": 4
}
