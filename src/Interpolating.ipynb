{
 "cells": [
  {
   "cell_type": "code",
   "execution_count": 2,
   "metadata": {},
   "outputs": [],
   "source": [
    "import xarray as xr\n",
    "import numpy as np\n",
    "import cartopy.crs as ccrs\n",
    "import matplotlib.pyplot as plt"
   ]
  },
  {
   "cell_type": "code",
   "execution_count": 3,
   "metadata": {},
   "outputs": [
    {
     "data": {
      "text/plain": [
       "<xarray.Dataset>\n",
       "Dimensions:    (lat: 180, lon: 360, nbnds: 2, time: 461)\n",
       "Coordinates:\n",
       "  * lat        (lat) float32 89.5 88.5 87.5 86.5 ... -86.5 -87.5 -88.5 -89.5\n",
       "  * lon        (lon) float32 0.5 1.5 2.5 3.5 4.5 ... 356.5 357.5 358.5 359.5\n",
       "  * time       (time) datetime64[ns] 1981-12-01 1982-01-01 ... 2020-04-01\n",
       "Dimensions without coordinates: nbnds\n",
       "Data variables:\n",
       "    sst        (time, lat, lon) float32 ...\n",
       "    time_bnds  (time, nbnds) datetime64[ns] ...\n",
       "Attributes:\n",
       "    title:          NOAA Optimum Interpolation (OI) SST V2\n",
       "    Conventions:    CF-1.0\n",
       "    history:        Wed Apr  6 13:47:45 2005: ncks -d time,0,278 SAVEs/sst.mn...\n",
       "    comments:       Data described in  Reynolds, R.W., N.A. Rayner, T.M.\\nSmi...\n",
       "    platform:       Model\n",
       "    source:         NCEP Climate Modeling Branch\n",
       "    institution:    National Centers for Environmental Prediction\n",
       "    References:     https://www.psl.noaa.gov/data/gridded/data.noaa.oisst.v2....\n",
       "    dataset_title:  NOAA Optimum Interpolation (OI) SST V2\n",
       "    source_url:     http://www.emc.ncep.noaa.gov/research/cmb/sst_analysis/"
      ]
     },
     "execution_count": 3,
     "metadata": {},
     "output_type": "execute_result"
    }
   ],
   "source": [
    "obs_file='/shared/obs/gridded/OISSTv2/monthly/sst.mnmean.nc'\n",
    "ds_obs=xr.open_dataset(obs_file)\n",
    "ds_obs"
   ]
  },
  {
   "cell_type": "code",
   "execution_count": 4,
   "metadata": {},
   "outputs": [
    {
     "data": {
      "text/plain": [
       "<xarray.Dataset>\n",
       "Dimensions:  (lat: 180, lon: 360, time: 1)\n",
       "Coordinates:\n",
       "  * lat      (lat) float32 89.5 88.5 87.5 86.5 85.5 ... -86.5 -87.5 -88.5 -89.5\n",
       "  * lon      (lon) float32 0.5 1.5 2.5 3.5 4.5 ... 355.5 356.5 357.5 358.5 359.5\n",
       "  * time     (time) datetime64[ns] 1981-10-29\n",
       "Data variables:\n",
       "    mask     (time, lat, lon) float32 ...\n",
       "Attributes:\n",
       "    title:          NOAA Optimum Interpolation (OI) SST V2\n",
       "    Conventions:    CF-1.0\n",
       "    history:        Created 10/2002 by RHS\n",
       "    comments:       Data described in  Reynolds, R.W., N.A. Rayner, T.M.\\nSmi...\n",
       "    platform:       Model\n",
       "    source:         NCEP Climate Modeling Branch\n",
       "    institution:    National Centers for Environmental Prediction\n",
       "    References:     https://www.psl.noaa.gov/data/gridded/data.noaa.oisst.v2....\n",
       "    dataset_title:  NOAA Optimum Interpolation (OI) SST V2\n",
       "    source_url:     http://www.emc.ncep.noaa.gov/research/cmb/sst_analysis/"
      ]
     },
     "execution_count": 4,
     "metadata": {},
     "output_type": "execute_result"
    }
   ],
   "source": [
    "mask_file='/shared/obs/gridded/OISSTv2/lmask/lsmask.nc'\n",
    "ds_mask=xr.open_dataset(mask_file)\n",
    "ds_mask"
   ]
  },
  {
   "cell_type": "code",
   "execution_count": 5,
   "metadata": {},
   "outputs": [],
   "source": [
    "ds_mask=ds_mask.reindex(lat=list(reversed(ds_mask['lat'])))\n",
    "ds_obs=ds_obs.reindex(lat=list(reversed(ds_obs['lat'])))"
   ]
  },
  {
   "cell_type": "code",
   "execution_count": 6,
   "metadata": {},
   "outputs": [
    {
     "data": {
      "text/plain": [
       "<xarray.Dataset>\n",
       "Dimensions:    (bnds: 2, lat: 192, lon: 288, time: 1872)\n",
       "Coordinates:\n",
       "  * time       (time) object 1850-01-16 12:00:00 ... 2005-12-16 12:00:00\n",
       "  * lat        (lat) float64 -90.0 -89.06 -88.12 -87.17 ... 88.12 89.06 90.0\n",
       "  * lon        (lon) float64 0.0 1.25 2.5 3.75 5.0 ... 355.0 356.2 357.5 358.8\n",
       "Dimensions without coordinates: bnds\n",
       "Data variables:\n",
       "    time_bnds  (time, bnds) object ...\n",
       "    lat_bnds   (lat, bnds) float64 ...\n",
       "    lon_bnds   (lon, bnds) float64 ...\n",
       "    ts         (time, lat, lon) float32 ...\n",
       "Attributes:\n",
       "    institution:                  NCAR (National Center for Atmospheric Resea...\n",
       "    institute_id:                 NCAR\n",
       "    experiment_id:                historical\n",
       "    source:                       CCSM4\n",
       "    model_id:                     CCSM4\n",
       "    forcing:                      Sl GHG Vl SS Ds SD BC MD OC Oz AA LU\n",
       "    parent_experiment_id:         piControl\n",
       "    parent_experiment_rip:        r1i1p1\n",
       "    branch_time:                  937.0\n",
       "    contact:                      cesm_data@ucar.edu\n",
       "    references:                   Gent P. R., et.al. 2011: The Community Clim...\n",
       "    initialization_method:        1\n",
       "    physics_version:              1\n",
       "    tracking_id:                  deb13cc9-f25d-44f9-a222-9f74b91ab964\n",
       "    acknowledgements:             The CESM project is supported by the Nation...\n",
       "    cesm_casename:                b40.20th.track1.1deg.008\n",
       "    cesm_repotag:                 ccsm4_0_beta43\n",
       "    cesm_compset:                 B20TRCN\n",
       "    resolution:                   f09_g16 (0.9x1.25_gx1v6)\n",
       "    forcing_note:                 Additional information on the external forc...\n",
       "    processed_by:                 strandwg on mirage0 at 20111021\n",
       "    processing_code_information:  Last Changed Rev: 428 Last Changed Date: 20...\n",
       "    product:                      output\n",
       "    experiment:                   historical\n",
       "    frequency:                    mon\n",
       "    creation_date:                2011-10-21T17:19:45Z\n",
       "    history:                      2011-10-21T17:19:45Z CMOR rewrote data to c...\n",
       "    Conventions:                  CF-1.4\n",
       "    project_id:                   CMIP5\n",
       "    table_id:                     Table Amon (26 July 2011) 976b7fd1d9e1be31d...\n",
       "    title:                        CCSM4 model output prepared for CMIP5 histo...\n",
       "    parent_experiment:            pre-industrial control\n",
       "    modeling_realm:               atmos\n",
       "    realization:                  1\n",
       "    cmor_version:                 2.7.1"
      ]
     },
     "execution_count": 6,
     "metadata": {},
     "output_type": "execute_result"
    }
   ],
   "source": [
    "model_path='/shared/cmip5/data/historical/atmos/mon/Amon/ts/NCAR.CCSM4/r1i1p1/'\n",
    "model_file='ts_Amon_CCSM4_historical_r1i1p1_185001-200512.nc'\n",
    "ds_model=xr.open_dataset(model_path+model_file)\n",
    "ds_model"
   ]
  },
  {
   "cell_type": "code",
   "execution_count": 7,
   "metadata": {},
   "outputs": [
    {
     "data": {
      "text/plain": [
       "<xarray.DataArray 'ts' (time: 1872, lat: 192, lon: 288)>\n",
       "[103514112 values with dtype=float32]\n",
       "Coordinates:\n",
       "  * time     (time) object 1850-01-16 12:00:00 ... 2005-12-16 12:00:00\n",
       "  * lat      (lat) float64 -90.0 -89.06 -88.12 -87.17 ... 87.17 88.12 89.06 90.0\n",
       "  * lon      (lon) float64 0.0 1.25 2.5 3.75 5.0 ... 355.0 356.2 357.5 358.8\n",
       "Attributes:\n",
       "    standard_name:     surface_temperature\n",
       "    long_name:         Surface Temperature\n",
       "    comment:           TS no change, CMIP5_table_comment: \"\"skin\"\" temperatur...\n",
       "    units:             K\n",
       "    original_name:     TS\n",
       "    cell_methods:      time: mean (interval: 30 days)\n",
       "    cell_measures:     area: areacella\n",
       "    history:           2011-10-21T17:19:45Z altered by CMOR: replaced missing...\n",
       "    associated_files:  baseURL: http://cmip-pcmdi.llnl.gov/CMIP5/dataLocation..."
      ]
     },
     "execution_count": 7,
     "metadata": {},
     "output_type": "execute_result"
    }
   ],
   "source": [
    "ds_model['ts']"
   ]
  },
  {
   "cell_type": "code",
   "execution_count": 9,
   "metadata": {},
   "outputs": [
    {
     "data": {
      "text/plain": [
       "<xarray.DataArray 'sst' (time: 461, lat: 180, lon: 360)>\n",
       "[29872800 values with dtype=float32]\n",
       "Coordinates:\n",
       "  * lat      (lat) float64 -89.5 -88.5 -87.5 -86.5 -85.5 ... 86.5 87.5 88.5 89.5\n",
       "  * lon      (lon) float32 0.5 1.5 2.5 3.5 4.5 ... 355.5 356.5 357.5 358.5 359.5\n",
       "  * time     (time) datetime64[ns] 1981-12-01 1982-01-01 ... 2020-04-01\n",
       "Attributes:\n",
       "    long_name:             Monthly Mean of Sea Surface Temperature\n",
       "    unpacked_valid_range:  [-5. 40.]\n",
       "    actual_range:          [-1.7999996 35.56862  ]\n",
       "    units:                 degC\n",
       "    precision:             2\n",
       "    var_desc:              Sea Surface Temperature\n",
       "    dataset:               NOAA Optimum Interpolation (OI) SST V2\n",
       "    level_desc:            Surface\n",
       "    statistic:             Mean\n",
       "    parent_stat:           Weekly Mean\n",
       "    standard_name:         sea_surface_temperature\n",
       "    cell_methods:          time: mean (monthly from weekly values interpolate...\n",
       "    valid_range:           [-500 4000]"
      ]
     },
     "execution_count": 9,
     "metadata": {},
     "output_type": "execute_result"
    }
   ],
   "source": [
    "ds_obs['sst']"
   ]
  },
  {
   "cell_type": "code",
   "execution_count": 10,
   "metadata": {},
   "outputs": [
    {
     "data": {
      "text/plain": [
       "'K'"
      ]
     },
     "execution_count": 10,
     "metadata": {},
     "output_type": "execute_result"
    }
   ],
   "source": [
    "ds_model['ts'].attrs['units']"
   ]
  },
  {
   "cell_type": "code",
   "execution_count": 11,
   "metadata": {},
   "outputs": [
    {
     "data": {
      "text/plain": [
       "'degC'"
      ]
     },
     "execution_count": 11,
     "metadata": {},
     "output_type": "execute_result"
    }
   ],
   "source": [
    "ds_obs['sst'].attrs['units']"
   ]
  },
  {
   "cell_type": "code",
   "execution_count": 12,
   "metadata": {},
   "outputs": [],
   "source": [
    "ds_model['ts']=ds_model['ts']-273.15\n",
    "ds_model['ts'].attrs['units']='degC'"
   ]
  },
  {
   "cell_type": "code",
   "execution_count": 13,
   "metadata": {},
   "outputs": [
    {
     "data": {
      "text/plain": [
       "<xarray.DataArray 'ts' (time: 1872, lat: 192, lon: 288)>\n",
       "array([[[-31.266891, -33.268387, -33.1382  , ..., -33.380997,\n",
       "         -31.5755  , -32.951096],\n",
       "        [-30.15039 , -30.425888, -30.773392, ..., -30.210098,\n",
       "         -30.5587  , -31.326797],\n",
       "        [-28.717392, -29.334   , -29.602997, ..., -27.7818  ,\n",
       "         -28.876297, -28.813889],\n",
       "        ...,\n",
       "        [-39.56479 , -39.55899 , -39.558   , ..., -39.594696,\n",
       "         -39.586395, -39.578094],\n",
       "        [-39.443893, -39.4404  , -39.436996, ..., -39.453796,\n",
       "         -39.450287, -39.447098],\n",
       "        [-39.26799 , -39.26819 , -39.268387, ..., -39.26709 ,\n",
       "         -39.267395, -39.2677  ]],\n",
       "\n",
       "       [[-39.0009  , -41.008392, -40.92389 , ..., -41.04619 ,\n",
       "         -39.383698, -40.83719 ],\n",
       "        [-38.173996, -38.543396, -38.886093, ..., -38.47429 ,\n",
       "         -38.353897, -39.501694],\n",
       "        [-37.241592, -37.768692, -37.8994  , ..., -36.854095,\n",
       "         -37.65419 , -37.519897],\n",
       "        ...,\n",
       "        [-37.5412  , -37.521088, -37.49939 , ..., -37.58789 ,\n",
       "         -37.57289 , -37.558197],\n",
       "        [-37.181595, -37.1752  , -37.168396, ..., -37.201096,\n",
       "         -37.19359 , -37.18759 ],\n",
       "        [-36.960495, -36.960587, -36.960693, ..., -36.9601  ,\n",
       "         -36.96019 , -36.960297]],\n",
       "\n",
       "       [[-52.87039 , -53.5784  , -53.515594, ..., -53.553894,\n",
       "         -53.010193, -53.484787],\n",
       "        [-52.404694, -52.569   , -52.790497, ..., -52.475296,\n",
       "         -52.471497, -52.838196],\n",
       "        [-51.233887, -51.564087, -51.590195, ..., -51.55229 ,\n",
       "         -51.602097, -51.71689 ],\n",
       "        ...,\n",
       "        [-33.05989 , -32.974792, -32.893097, ..., -33.307693,\n",
       "         -33.225998, -33.146698],\n",
       "        [-32.829193, -32.780792, -32.730896, ..., -32.97969 ,\n",
       "         -32.929   , -32.8786  ],\n",
       "        [-32.99379 , -32.9915  , -32.989395, ..., -33.002   ,\n",
       "         -32.998993, -32.9962  ]],\n",
       "\n",
       "       ...,\n",
       "\n",
       "       [[-50.715088, -50.82869 , -50.7426  , ..., -50.74649 ,\n",
       "         -50.86969 , -50.749786],\n",
       "        [-49.4142  , -49.2576  , -49.473297, ..., -49.356796,\n",
       "         -49.382492, -49.35379 ],\n",
       "        [-48.27069 , -48.315292, -48.352997, ..., -48.098587,\n",
       "         -48.132492, -48.2267  ],\n",
       "        ...,\n",
       "        [-18.883896, -18.852295, -18.822601, ..., -18.976501,\n",
       "         -18.945297, -18.916092],\n",
       "        [-19.0652  , -19.059494, -19.053894, ..., -19.086899,\n",
       "         -19.079086, -19.071793],\n",
       "        [-19.54309 , -19.540695, -19.53859 , ..., -19.55159 ,\n",
       "         -19.548492, -19.545593]],\n",
       "\n",
       "       [[-39.06369 , -39.28389 , -39.13359 , ..., -39.142593,\n",
       "         -39.34909 , -39.149887],\n",
       "        [-37.903397, -37.5708  , -37.883896, ..., -37.833298,\n",
       "         -37.8273  , -37.8631  ],\n",
       "        [-36.49199 , -36.516388, -36.698196, ..., -36.11879 ,\n",
       "         -36.21869 , -36.313187],\n",
       "        ...,\n",
       "        [-26.146591, -26.141693, -26.136093, ..., -26.158096,\n",
       "         -26.152496, -26.149597],\n",
       "        [-26.161194, -26.166794, -26.173187, ..., -26.141586,\n",
       "         -26.149399, -26.155594],\n",
       "        [-26.2173  , -26.216888, -26.216492, ..., -26.218994,\n",
       "         -26.2184  , -26.217789]],\n",
       "\n",
       "       [[-30.069199, -30.4785  , -30.202896, ..., -30.222488,\n",
       "         -30.607101, -30.235794],\n",
       "        [-30.222488, -29.313187, -30.1837  , ..., -30.126694,\n",
       "         -30.119293, -30.203888],\n",
       "        [-28.502289, -28.4272  , -28.918594, ..., -27.886795,\n",
       "         -28.03299 , -28.179596],\n",
       "        ...,\n",
       "        [-29.748291, -29.738098, -29.732788, ..., -29.778687,\n",
       "         -29.769592, -29.761597],\n",
       "        [-30.165497, -30.16159 , -30.1577  , ..., -30.1792  ,\n",
       "         -30.174896, -30.169998],\n",
       "        [-30.451889, -30.451187, -30.450592, ..., -30.4543  ,\n",
       "         -30.4534  , -30.45259 ]]], dtype=float32)\n",
       "Coordinates:\n",
       "  * time     (time) object 1850-01-16 12:00:00 ... 2005-12-16 12:00:00\n",
       "  * lat      (lat) float64 -90.0 -89.06 -88.12 -87.17 ... 87.17 88.12 89.06 90.0\n",
       "  * lon      (lon) float64 0.0 1.25 2.5 3.75 5.0 ... 355.0 356.2 357.5 358.8\n",
       "Attributes:\n",
       "    units:    degC"
      ]
     },
     "execution_count": 13,
     "metadata": {},
     "output_type": "execute_result"
    }
   ],
   "source": [
    "ds_model['ts']"
   ]
  },
  {
   "cell_type": "code",
   "execution_count": 14,
   "metadata": {},
   "outputs": [
    {
     "data": {
      "text/plain": [
       "<xarray.Dataset>\n",
       "Dimensions:   (bnds: 2, lat: 192, lon: 288)\n",
       "Coordinates:\n",
       "  * lat       (lat) float64 -90.0 -89.06 -88.12 -87.17 ... 88.12 89.06 90.0\n",
       "  * lon       (lon) float64 0.0 1.25 2.5 3.75 5.0 ... 355.0 356.2 357.5 358.8\n",
       "Dimensions without coordinates: bnds\n",
       "Data variables:\n",
       "    lat_bnds  (lat, bnds) float64 -90.0 -89.53 -89.53 ... 89.53 89.53 90.0\n",
       "    lon_bnds  (lon, bnds) float64 -0.625 0.625 0.625 1.875 ... 358.1 358.1 359.4\n",
       "    ts        (lat, lon) float32 -48.987423 -49.012203 ... -21.503736 -21.50329"
      ]
     },
     "execution_count": 14,
     "metadata": {},
     "output_type": "execute_result"
    }
   ],
   "source": [
    "ds_model_mean=ds_model.mean(dim='time')\n",
    "ds_obs_mean=ds_obs.mean(dim='time')\n",
    "ds_model_mean"
   ]
  },
  {
   "cell_type": "code",
   "execution_count": 15,
   "metadata": {},
   "outputs": [
    {
     "data": {
      "text/plain": [
       "<xarray.Dataset>\n",
       "Dimensions:   (bnds: 2, lat: 192, lon: 288)\n",
       "Coordinates:\n",
       "  * lat       (lat) float64 -90.0 -89.06 -88.12 -87.17 ... 88.12 89.06 90.0\n",
       "  * lon       (lon) float64 0.0 1.25 2.5 3.75 5.0 ... 355.0 356.2 357.5 358.8\n",
       "Dimensions without coordinates: bnds\n",
       "Data variables:\n",
       "    lat_bnds  (lat, bnds) float64 -90.0 -89.53 -89.53 ... 89.53 89.53 90.0\n",
       "    lon_bnds  (lon, bnds) float64 -0.625 0.625 0.625 1.875 ... 358.1 358.1 359.4\n",
       "    sst       (lat, lon) float32 -48.987423 -49.012203 ... -21.503736 -21.50329"
      ]
     },
     "execution_count": 15,
     "metadata": {},
     "output_type": "execute_result"
    }
   ],
   "source": [
    "ds_model_mean=ds_model_mean.rename({'ts':'sst'})\n",
    "ds_model_mean"
   ]
  },
  {
   "cell_type": "code",
   "execution_count": 16,
   "metadata": {},
   "outputs": [
    {
     "data": {
      "text/plain": [
       "<xarray.Dataset>\n",
       "Dimensions:   (bnds: 2, lat: 180, lon: 360)\n",
       "Coordinates:\n",
       "  * lat       (lat) float64 -89.5 -88.5 -87.5 -86.5 ... 86.5 87.5 88.5 89.5\n",
       "  * lon       (lon) float64 0.5 1.5 2.5 3.5 4.5 ... 356.5 357.5 358.5 359.5\n",
       "Dimensions without coordinates: bnds\n",
       "Data variables:\n",
       "    lat_bnds  (lat, bnds) float64 -89.75 -89.03 -88.97 ... 88.97 89.03 89.75\n",
       "    lon_bnds  (lon, bnds) float64 -0.125 1.125 0.875 2.125 ... 359.1 nan nan\n",
       "    sst       (lat, lon) float64 -48.43 -48.46 -48.45 ... -21.45 -21.45 nan"
      ]
     },
     "execution_count": 16,
     "metadata": {},
     "output_type": "execute_result"
    }
   ],
   "source": [
    "model_interp=ds_model_mean.interp_like(ds_obs_mean)\n",
    "model_interp"
   ]
  },
  {
   "cell_type": "code",
   "execution_count": 17,
   "metadata": {},
   "outputs": [
    {
     "data": {
      "text/plain": [
       "<matplotlib.colorbar.Colorbar at 0x7f6cd0917358>"
      ]
     },
     "execution_count": 17,
     "metadata": {},
     "output_type": "execute_result"
    },
    {
     "data": {
      "image/png": "[encoded data removed]",
      "text/plain": [
       "<Figure size 432x288 with 2 Axes>"
      ]
     },
     "metadata": {
      "needs_background": "light"
     },
     "output_type": "display_data"
    }
   ],
   "source": [
    "plt.contourf(ds_model_mean['sst'],cmap='coolwarm')\n",
    "plt.title('Original')\n",
    "plt.colorbar()"
   ]
  },
  {
   "cell_type": "code",
   "execution_count": 18,
   "metadata": {},
   "outputs": [
    {
     "data": {
      "text/plain": [
       "<matplotlib.colorbar.Colorbar at 0x7f6cd080ed30>"
      ]
     },
     "execution_count": 18,
     "metadata": {},
     "output_type": "execute_result"
    },
    {
     "data": {
      "image/png": "[encoded data removed]",
      "text/plain": [
       "<Figure size 432x288 with 2 Axes>"
      ]
     },
     "metadata": {
      "needs_background": "light"
     },
     "output_type": "display_data"
    }
   ],
   "source": [
    "plt.contourf(model_interp['sst'],cmap='coolwarm')\n",
    "plt.title('Interpolated')\n",
    "plt.colorbar()"
   ]
  },
  {
   "cell_type": "code",
   "execution_count": 19,
   "metadata": {},
   "outputs": [
    {
     "data": {
      "text/plain": [
       "<xarray.Dataset>\n",
       "Dimensions:  (lat: 180, lon: 360)\n",
       "Coordinates:\n",
       "  * lat      (lat) float64 -89.5 -88.5 -87.5 -86.5 -85.5 ... 86.5 87.5 88.5 89.5\n",
       "  * lon      (lon) float64 0.5 1.5 2.5 3.5 4.5 ... 355.5 356.5 357.5 358.5 359.5\n",
       "    time     datetime64[ns] 1981-10-29\n",
       "Data variables:\n",
       "    sst      (lat, lon) float64 nan nan nan nan nan ... -19.66 -19.66 -19.66 nan"
      ]
     },
     "execution_count": 19,
     "metadata": {},
     "output_type": "execute_result"
    }
   ],
   "source": [
    "diff=(model_interp-ds_obs_mean).where(ds_mask['mask'].squeeze()==1)\n",
    "diff"
   ]
  },
  {
   "cell_type": "code",
   "execution_count": 21,
   "metadata": {},
   "outputs": [
    {
     "data": {
      "text/plain": [
       "<matplotlib.colorbar.Colorbar at 0x7f6cd05d2128>"
      ]
     },
     "execution_count": 21,
     "metadata": {},
     "output_type": "execute_result"
    },
    {
     "data": {
      "image/png": "[encoded data removed]",
      "text/plain": [
       "<Figure size 432x288 with 2 Axes>"
      ]
     },
     "metadata": {
      "needs_background": "light"
     },
     "output_type": "display_data"
    }
   ],
   "source": [
    "clevs=np.arange(-20,21,2)\n",
    "plt.contourf(diff['sst'],clevs,cmap='coolwarm')\n",
    "plt.title('Model-OBS')\n",
    "plt.colorbar()"
   ]
  },
  {
   "cell_type": "code",
   "execution_count": null,
   "metadata": {},
   "outputs": [],
   "source": []
  }
 ],
 "metadata": {
  "kernelspec": {
   "display_name": "Python 3",
   "language": "python",
   "name": "python3"
  },
  "language_info": {
   "codemirror_mode": {
    "name": "ipython",
    "version": 3
   },
   "file_extension": ".py",
   "mimetype": "text/x-python",
   "name": "python",
   "nbconvert_exporter": "python",
   "pygments_lexer": "ipython3",
   "version": "3.7.3"
  }
 },
 "nbformat": 4,
 "nbformat_minor": 4
}
