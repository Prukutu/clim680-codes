{
 "cells": [
  {
   "cell_type": "code",
   "execution_count": null,
   "metadata": {},
   "outputs": [],
   "source": [
    "import xarray as xr\n",
    "import numpy as np\n",
    "import matplotlib.pyplot as plt\n",
    "import xesmf as xe\n",
    "import cartopy.crs as ccrs"
   ]
  },
  {
   "cell_type": "code",
   "execution_count": null,
   "metadata": {},
   "outputs": [],
   "source": [
    "path='/home/pdirmeye/classes/clim680_2022/'\n",
    "file='asr15km.anl.2D.200001.mon.nc'\n",
    "var='SNOALB'\n",
    "#var='T2M'"
   ]
  },
  {
   "cell_type": "code",
   "execution_count": null,
   "metadata": {},
   "outputs": [],
   "source": [
    "ds=xr.open_dataset(path+file)\n",
    "ds"
   ]
  },
  {
   "cell_type": "code",
   "execution_count": null,
   "metadata": {},
   "outputs": [],
   "source": [
    "ds[var].values"
   ]
  },
  {
   "cell_type": "code",
   "execution_count": null,
   "metadata": {},
   "outputs": [],
   "source": [
    "plt.scatter(ds['XLONG'], ds['XLAT'], s=0.01)  # plot grid locations\n",
    "plt.xlim([-180, 180])\n",
    "plt.ylim([-90, 90])\n",
    "plt.xlabel('lon')\n",
    "plt.ylabel('lat')"
   ]
  },
  {
   "cell_type": "code",
   "execution_count": null,
   "metadata": {},
   "outputs": [],
   "source": [
    "ds = ds.rename({'XLONG': 'lon', 'XLAT': 'lat'})"
   ]
  },
  {
   "cell_type": "code",
   "execution_count": null,
   "metadata": {},
   "outputs": [],
   "source": [
    "new_lat=np.arange(-90,90.5,0.5)\n",
    "new_lon=np.arange(0,360.1,0.1)\n",
    "\n",
    "ds_out = xr.Dataset({'lat': (['lat'], new_lat),\n",
    "                    'lon': (['lon'], new_lon)\n",
    "                    })\n",
    "ds_out"
   ]
  },
  {
   "cell_type": "code",
   "execution_count": null,
   "metadata": {},
   "outputs": [],
   "source": [
    "xe.Regridder?"
   ]
  },
  {
   "cell_type": "code",
   "execution_count": null,
   "metadata": {},
   "outputs": [],
   "source": [
    "regridder = xe.Regridder(ds, ds_out,'bilinear')\n",
    "dr_out = regridder(ds[var]).to_dataset(name=var)\n",
    "dr_out"
   ]
  },
  {
   "cell_type": "code",
   "execution_count": null,
   "metadata": {},
   "outputs": [],
   "source": [
    "plt.figure(figsize=(12,4));\n",
    "ax = plt.axes(projection=ccrs.Robinson())\n",
    "cs = ax.contourf(dr_out['lon'],dr_out['lat'],dr_out[var][0,:,:],transform=ccrs.PlateCarree())\n",
    "ax.coastlines()\n",
    "plt.colorbar(cs)"
   ]
  },
  {
   "cell_type": "code",
   "execution_count": null,
   "metadata": {},
   "outputs": [],
   "source": [
    "plt.figure(figsize=(10,6));\n",
    "ax = plt.axes(projection=ccrs.NorthPolarStereo(central_longitude=0))\n",
    "cs = ax.contourf(dr_out['lon'],dr_out['lat'],dr_out[var][0,:,:],\n",
    "                 transform=ccrs.PlateCarree())\n",
    "ax.coastlines()\n",
    "plt.colorbar(cs)"
   ]
  },
  {
   "cell_type": "code",
   "execution_count": null,
   "metadata": {},
   "outputs": [],
   "source": [
    "# Select arctic region\n",
    "dr_arctic=dr_out.sel(lat=slice(20,90))\n",
    "plt.figure(figsize=(10,6))\n",
    "ax = plt.axes(projection=ccrs.NorthPolarStereo(central_longitude=0))\n",
    "cs = ax.contourf(dr_arctic['lon'],dr_arctic['lat'],dr_arctic[var][0,:,:],\n",
    "                 transform=ccrs.PlateCarree(),cmap='bone')\n",
    "ax.coastlines(color='orange')\n",
    "plt.colorbar(cs)"
   ]
  },
  {
   "cell_type": "markdown",
   "metadata": {},
   "source": [
    "## Regrid CESM Ocean Model (POP) output**"
   ]
  },
  {
   "cell_type": "code",
   "execution_count": null,
   "metadata": {},
   "outputs": [],
   "source": [
    "path='/home/pdirmeye/classes/clim680_2022/POP/'\n",
    "file='PMIP4.pop.nc'\n",
    "var='TEMP'"
   ]
  },
  {
   "cell_type": "code",
   "execution_count": null,
   "metadata": {},
   "outputs": [],
   "source": [
    "ds=xr.open_dataset(path+file)\n",
    "ds"
   ]
  },
  {
   "cell_type": "code",
   "execution_count": null,
   "metadata": {},
   "outputs": [],
   "source": [
    "ds = ds.rename({'TLONG': 'lon', 'TLAT': 'lat'})"
   ]
  },
  {
   "cell_type": "code",
   "execution_count": null,
   "metadata": {},
   "outputs": [],
   "source": [
    "new_lat=np.arange(-90,90.5,0.5)\n",
    "new_lon=np.arange(0,360.5,0.5)\n",
    "\n",
    "ds_out = xr.Dataset({'lat': (['lat'], new_lat),\n",
    "                    'lon': (['lon'], new_lon)\n",
    "                    })\n",
    "ds_out"
   ]
  },
  {
   "cell_type": "code",
   "execution_count": null,
   "metadata": {},
   "outputs": [],
   "source": [
    "regridder = xe.Regridder(ds, ds_out,'nearest_s2d')\n",
    "dr_out = regridder(ds[var]).to_dataset(name=var)\n",
    "dr_out"
   ]
  },
  {
   "cell_type": "code",
   "execution_count": null,
   "metadata": {},
   "outputs": [],
   "source": [
    "plt.figure(figsize=(12,6));\n",
    "ax = plt.axes(projection=ccrs.Robinson())\n",
    "ax.contourf(dr_out['lon'],dr_out['lat'],dr_out[var][0,0,:,:],transform=ccrs.PlateCarree())\n",
    "ax.coastlines()"
   ]
  },
  {
   "cell_type": "code",
   "execution_count": null,
   "metadata": {},
   "outputs": [],
   "source": []
  }
 ],
 "metadata": {
  "kernelspec": {
   "display_name": "clim_data",
   "language": "python",
   "name": "clim_data"
  },
  "language_info": {
   "codemirror_mode": {
    "name": "ipython",
    "version": 3
   },
   "file_extension": ".py",
   "mimetype": "text/x-python",
   "name": "python",
   "nbconvert_exporter": "python",
   "pygments_lexer": "ipython3",
   "version": "3.10.4"
  }
 },
 "nbformat": 4,
 "nbformat_minor": 4
}
