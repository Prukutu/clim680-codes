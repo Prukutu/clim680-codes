{
 "cells": [
  {
   "cell_type": "markdown",
   "id": "857ca52b-c79f-4437-ae80-e5de443982cb",
   "metadata": {},
   "source": [
    "## Masking"
   ]
  },
  {
   "cell_type": "code",
   "execution_count": null,
   "id": "3182988c-8f13-40f6-9526-81a17b77cfc9",
   "metadata": {},
   "outputs": [],
   "source": [
    "import xarray as xr\n",
    "import numpy as np\n",
    "import cartopy.crs as ccrs\n",
    "import matplotlib.pyplot as plt"
   ]
  },
  {
   "cell_type": "code",
   "execution_count": null,
   "id": "18a5bc05-23b7-4949-a070-a6b6b78895b1",
   "metadata": {},
   "outputs": [],
   "source": [
    "obs_file='/home/pdirmeye/classes/clim680_2022/OISSTv2/monthly/sst.mnmean.nc'\n",
    "ds_obs=xr.open_dataset(obs_file)\n",
    "ds_obs"
   ]
  },
  {
   "cell_type": "code",
   "execution_count": null,
   "id": "dd430f96-324a-430d-9775-26a5f6f71dd6",
   "metadata": {},
   "outputs": [],
   "source": [
    "plt.contourf(ds_obs.lon,ds_obs.lat,ds_obs['sst'].mean('time'),cmap='coolwarm')\n",
    "plt.colorbar()"
   ]
  },
  {
   "cell_type": "code",
   "execution_count": null,
   "id": "0ff2ecf0-32a4-4902-bf7a-7f1c0e95782b",
   "metadata": {},
   "outputs": [],
   "source": [
    "mask_file='/home/pdirmeye/classes/clim680_2022/OISSTv2/lmask/lsmask.nc'\n",
    "ds_mask=xr.open_dataset(mask_file)\n",
    "ds_mask"
   ]
  },
  {
   "cell_type": "code",
   "execution_count": null,
   "id": "fc164eb2-9939-415b-a75e-aae57bd9f8b9",
   "metadata": {},
   "outputs": [],
   "source": [
    "plt.contourf(ds_mask['mask'])"
   ]
  },
  {
   "cell_type": "code",
   "execution_count": null,
   "id": "878acc46-207c-49ff-94bb-2794241168df",
   "metadata": {},
   "outputs": [],
   "source": [
    "ds_mask=ds_mask.squeeze()\n",
    "plt.pcolormesh(ds_mask['mask'])\n",
    "plt.colorbar()"
   ]
  },
  {
   "cell_type": "code",
   "execution_count": null,
   "id": "2d8872d6-35f8-4da8-bbc7-2bfb3b0f7df4",
   "metadata": {},
   "outputs": [],
   "source": [
    "plt.pcolormesh(ds_mask.lon,ds_mask.lat,ds_mask['mask'])\n",
    "plt.colorbar()"
   ]
  },
  {
   "cell_type": "code",
   "execution_count": null,
   "id": "dff246d3-cb12-4567-9eaa-bb81484a656a",
   "metadata": {},
   "outputs": [],
   "source": [
    "da_ocean=ds_obs['sst'].mean('time').where(ds_mask['mask']==1)\n",
    "\n",
    "# Set the axes using the specified map projection\n",
    "ax=plt.axes(projection=ccrs.PlateCarree())\n",
    "\n",
    "# Make a filled contour plot\n",
    "cs = ax.pcolormesh(da_ocean.lon,da_ocean.lat,da_ocean,cmap='coolwarm',\n",
    "                 transform = ccrs.PlateCarree())\n",
    "cbar = plt.colorbar(cs,orientation='horizontal',label='Mean SST (˚C)') \n",
    "\n",
    "# Add coastlines\n",
    "ax.coastlines() "
   ]
  },
  {
   "cell_type": "code",
   "execution_count": null,
   "id": "a831b1c1-aac4-4b1f-9526-f723c2b3139a",
   "metadata": {},
   "outputs": [],
   "source": [
    "weights = np.cos(np.deg2rad(ds_mask.lat))\n",
    "unmasked = ds_obs['sst'].weighted(weights).mean(dim=['lon','lat'])\n",
    "masked = ds_obs['sst'].where(ds_mask['mask']==1).weighted(weights).mean(dim=['lon','lat'])"
   ]
  },
  {
   "cell_type": "code",
   "execution_count": null,
   "id": "f18476d6-f1f7-447f-9d7c-66fe8ac6bdb5",
   "metadata": {},
   "outputs": [],
   "source": [
    "plt.plot(masked.time,masked,label='Land masked out')\n",
    "plt.plot(unmasked.time,unmasked,label='No mask applied')\n",
    "plt.title('Global mean OI SST')\n",
    "plt.ylabel('Degrees Celsius')\n",
    "plt.legend()"
   ]
  },
  {
   "cell_type": "markdown",
   "id": "75029f48-88bc-432a-9c66-03ab72cc3997",
   "metadata": {},
   "source": [
    "## Interpolation"
   ]
  },
  {
   "cell_type": "code",
   "execution_count": null,
   "id": "5166192b-e10e-476b-8139-4e0431b9bb9f",
   "metadata": {},
   "outputs": [],
   "source": [
    "model_path = '/home/pdirmeye/classes/clim680_2022/CCCma.CanCM4/'\n",
    "model_file = 'ts_Amon_CanCM4_historical_r1i1p1_196101-200512.nc'\n",
    "ds_model = xr.open_dataset(model_path+model_file)\n",
    "ds_model"
   ]
  },
  {
   "cell_type": "code",
   "execution_count": null,
   "id": "8a6c4ec2-9943-4720-adb0-68cb334c0e8a",
   "metadata": {},
   "outputs": [],
   "source": [
    "ds_model['ts'] = ds_model['ts'] - 273.15\n",
    "ds_model['ts'].attrs['units'] = ds_obs['sst'].attrs['units']\n",
    "ds_model['ts']"
   ]
  },
  {
   "cell_type": "code",
   "execution_count": null,
   "id": "5d28c467-317c-4b53-aff3-fd97ce4716d3",
   "metadata": {},
   "outputs": [],
   "source": [
    "ds_obs_mean = ds_obs.mean(dim='time')\n",
    "ds_model_mean = ds_model.mean(dim='time')\n",
    "ds_model_mean"
   ]
  },
  {
   "cell_type": "code",
   "execution_count": null,
   "id": "ddc9114b-a28d-4468-8f0b-a4979510651b",
   "metadata": {},
   "outputs": [],
   "source": [
    "ds_model_mean = ds_model_mean.rename({'ts':'sst'})"
   ]
  },
  {
   "cell_type": "code",
   "execution_count": null,
   "id": "2c66d340-a4ce-4053-a9fb-49979330a5c2",
   "metadata": {},
   "outputs": [],
   "source": [
    "model_interp = ds_model_mean.interp_like(ds_obs_mean)\n",
    "model_interp"
   ]
  },
  {
   "cell_type": "code",
   "execution_count": null,
   "id": "a2077531-8349-4975-adc2-544bbf0c266a",
   "metadata": {},
   "outputs": [],
   "source": [
    "fig = plt.figure(figsize=(11,8.5))\n",
    "\n",
    "ax = plt.axes(projection=ccrs.PlateCarree(central_longitude=180.0))\n",
    "\n",
    "cs = ax.pcolormesh(model_interp['lon'],model_interp['lat'],\n",
    "                   model_interp['sst'],cmap='coolwarm',transform=ccrs.PlateCarree())\n",
    "ax.coastlines()\n",
    "plt.title('Interpolated')"
   ]
  },
  {
   "cell_type": "code",
   "execution_count": null,
   "id": "bceb850a-f37f-4e37-b72d-4c6a8f9cd93d",
   "metadata": {},
   "outputs": [],
   "source": [
    "fig = plt.figure(figsize=(11,8.5))\n",
    "\n",
    "ax = plt.axes(projection=ccrs.PlateCarree(central_longitude=180.0))\n",
    "\n",
    "cs = ax.pcolormesh(ds_model_mean['lon'],ds_model_mean['lat'],\n",
    "                   ds_model_mean['sst'],cmap='coolwarm',transform=ccrs.PlateCarree())\n",
    "ax.coastlines()\n",
    "plt.title('Original')"
   ]
  },
  {
   "cell_type": "code",
   "execution_count": null,
   "id": "22c51448-305e-4d35-825b-5e5668621145",
   "metadata": {},
   "outputs": [],
   "source": [
    "diff = (model_interp-ds_obs_mean).where(ds_mask['mask']==1)\n",
    "diff"
   ]
  },
  {
   "cell_type": "code",
   "execution_count": null,
   "id": "76f1a8c8-9c4d-4a0a-8c90-1329f0a3d6d8",
   "metadata": {},
   "outputs": [],
   "source": [
    "from matplotlib.colors import CenteredNorm\n",
    "fig = plt.figure(figsize=(11,7))\n",
    "\n",
    "plt.pcolormesh(diff.lon,diff.lat,diff['sst'], cmap='coolwarm', norm=CenteredNorm(0))\n",
    "plt.colorbar(label='˚C')\n",
    "plt.title('Model minus OBS')"
   ]
  },
  {
   "cell_type": "code",
   "execution_count": null,
   "id": "1b016bf2-50d1-4a72-b1ab-46857c20e248",
   "metadata": {},
   "outputs": [],
   "source": []
  }
 ],
 "metadata": {
  "kernelspec": {
   "display_name": "clim_data",
   "language": "python",
   "name": "clim_data"
  },
  "language_info": {
   "codemirror_mode": {
    "name": "ipython",
    "version": 3
   },
   "file_extension": ".py",
   "mimetype": "text/x-python",
   "name": "python",
   "nbconvert_exporter": "python",
   "pygments_lexer": "ipython3",
   "version": "3.10.4"
  }
 },
 "nbformat": 4,
 "nbformat_minor": 5
}
