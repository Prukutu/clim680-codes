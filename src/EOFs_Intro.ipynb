{
 "cells": [
  {
   "cell_type": "markdown",
   "metadata": {},
   "source": [
    "# Empircal Orthogonal Function Analysis (EOFs)\n",
    "Also called Principal Component Analysis (PCA)"
   ]
  },
  {
   "cell_type": "markdown",
   "metadata": {},
   "source": [
    "#### Framing of the problem:\n",
    "\n",
    "In climate, we often have lots of data that varies (and co-varies) in space and time.  For example, we have our monthly precipitation data as time series of maps with dimensions `[time, lat, lon]`. \n",
    "\n",
    "We want to understand the variability of the precipitation and answer questions like: \n",
    "\n",
    "* Why does it rain more or less at times in this location or that location? \n",
    "\n",
    "* What large-scale patterns are there that are associated with more or less rainfall in certain regions?  \n",
    "\n",
    "* Is there any regularity in time about when it rains more or less?\n",
    "\n",
    "It is impossible to look at thousands or tens of thousands of maps or even movies of our data and understand this.\n",
    "\n",
    "__Climate data is complicated because it varies in space and time__"
   ]
  },
  {
   "cell_type": "markdown",
   "metadata": {},
   "source": [
    "### We use EOFs to simplify our data\n",
    "\n",
    "One thing we do to manage this it to simplify it by trying to identify the patterns in the data that are associated with the largest amount of variability and we want each of the patterns to be unrelated to each other (this is called orthogonality). \n",
    "\n",
    "__What do I mean by this?__\n",
    "\n",
    "We want to identify some simpler set of spatial patterns (i.e. maps) that explain the most variability and a corresponding timeseries that tells us how that spatial pattern varies.  We want each spatial pattern to tell us something different than the other spatial patterns."
   ]
  },
  {
   "cell_type": "markdown",
   "metadata": {},
   "source": [
    "### Overview Summary \n",
    "\n",
    "EOFs will:\n",
    "\n",
    "* Find the spatial patterns of variabilty\n",
    "* Find their time variation\n",
    "* Give a measure of importance of each pattern\n",
    "\n",
    "You can think of EOFs as:\n",
    "\n",
    "* a method for simplifying our data (data reduction method)\n",
    "* a way of identifying spatial and temporal patterns of importance (in terms of variance) in climate data "
   ]
  },
  {
   "cell_type": "markdown",
   "metadata": {},
   "source": [
    "### What is it?  How does it work?\n",
    "\n",
    "_This is a high-level explanation designed to not require extensive math.  The mathematical explanation is left for statistics class._\n",
    "\n",
    "Given data $X$ with mean and trend removed and with dimensions `[time,space]`, the data can be re-written as:\n",
    "\n",
    "$ X[time,space] = PC[time,mode] x EOF^T[mode,space] $\n",
    "\n",
    "EOFs are calculated by identifying the eigenvalues and eigenvectors of the covariance matrix subject to the constraint of orthogonality.\n",
    "\n",
    "The `covariance matrix` is a way of containing all the information about how the data co-varies with itself in space and time.\n",
    "\n",
    "The `eigenvectors` identifies a `direction` in our data where the variance is largest based on our `covariance matrix`. For us, the `direction` corresponds to spatial dimensions of our data. The `eigenvectors` tell us which spatial patterns are most important from a variance perspective.  The `orthogonality` constraint ensures we identify independent directions/spatial patterns.\n",
    "\n",
    "The `eigenvalues` measure the importance of the `eigenvector`, so they tell us a ranking of how important are the spatial patterns identified by the `eigenvectors`.  "
   ]
  },
  {
   "cell_type": "code",
   "execution_count": null,
   "metadata": {},
   "outputs": [],
   "source": []
  }
 ],
 "metadata": {
  "kernelspec": {
   "display_name": "Python (clim680)",
   "language": "python",
   "name": "clim680"
  },
  "language_info": {
   "codemirror_mode": {
    "name": "ipython",
    "version": 3
   },
   "file_extension": ".py",
   "mimetype": "text/x-python",
   "name": "python",
   "nbconvert_exporter": "python",
   "pygments_lexer": "ipython3",
   "version": "3.7.8"
  }
 },
 "nbformat": 4,
 "nbformat_minor": 4
}
