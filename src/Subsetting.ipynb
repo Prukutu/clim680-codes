{
 "cells": [
  {
   "cell_type": "code",
   "execution_count": 1,
   "metadata": {},
   "outputs": [],
   "source": [
    "import xarray as xr\n",
    "import numpy as np\n",
    "import cartopy.crs as ccrs\n",
    "import matplotlib.pyplot as plt"
   ]
  },
  {
   "cell_type": "code",
   "execution_count": 2,
   "metadata": {},
   "outputs": [
    {
     "data": {
      "text/plain": [
       "<xarray.Dataset>\n",
       "Dimensions:    (lat: 180, lon: 360, nbnds: 2, time: 461)\n",
       "Coordinates:\n",
       "  * lat        (lat) float32 89.5 88.5 87.5 86.5 ... -86.5 -87.5 -88.5 -89.5\n",
       "  * lon        (lon) float32 0.5 1.5 2.5 3.5 4.5 ... 356.5 357.5 358.5 359.5\n",
       "  * time       (time) datetime64[ns] 1981-12-01 1982-01-01 ... 2020-04-01\n",
       "Dimensions without coordinates: nbnds\n",
       "Data variables:\n",
       "    sst        (time, lat, lon) float32 ...\n",
       "    time_bnds  (time, nbnds) datetime64[ns] ...\n",
       "Attributes:\n",
       "    title:          NOAA Optimum Interpolation (OI) SST V2\n",
       "    Conventions:    CF-1.0\n",
       "    history:        Wed Apr  6 13:47:45 2005: ncks -d time,0,278 SAVEs/sst.mn...\n",
       "    comments:       Data described in  Reynolds, R.W., N.A. Rayner, T.M.\\nSmi...\n",
       "    platform:       Model\n",
       "    source:         NCEP Climate Modeling Branch\n",
       "    institution:    National Centers for Environmental Prediction\n",
       "    References:     https://www.psl.noaa.gov/data/gridded/data.noaa.oisst.v2....\n",
       "    dataset_title:  NOAA Optimum Interpolation (OI) SST V2\n",
       "    source_url:     http://www.emc.ncep.noaa.gov/research/cmb/sst_analysis/"
      ]
     },
     "execution_count": 2,
     "metadata": {},
     "output_type": "execute_result"
    }
   ],
   "source": [
    "path='/shared/obs/gridded/OISSTv2/monthly/'\n",
    "file='sst.mnmean.nc'\n",
    "ds=xr.open_dataset(path+file)\n",
    "ds"
   ]
  },
  {
   "cell_type": "code",
   "execution_count": 3,
   "metadata": {},
   "outputs": [
    {
     "data": {
      "text/plain": [
       "<xarray.DataArray 'sst' (time: 461, lat: 180, lon: 360)>\n",
       "[29872800 values with dtype=float32]\n",
       "Coordinates:\n",
       "  * lat      (lat) float32 89.5 88.5 87.5 86.5 85.5 ... -86.5 -87.5 -88.5 -89.5\n",
       "  * lon      (lon) float32 0.5 1.5 2.5 3.5 4.5 ... 355.5 356.5 357.5 358.5 359.5\n",
       "  * time     (time) datetime64[ns] 1981-12-01 1982-01-01 ... 2020-04-01\n",
       "Attributes:\n",
       "    long_name:             Monthly Mean of Sea Surface Temperature\n",
       "    unpacked_valid_range:  [-5. 40.]\n",
       "    actual_range:          [-1.7999996 35.56862  ]\n",
       "    units:                 degC\n",
       "    precision:             2\n",
       "    var_desc:              Sea Surface Temperature\n",
       "    dataset:               NOAA Optimum Interpolation (OI) SST V2\n",
       "    level_desc:            Surface\n",
       "    statistic:             Mean\n",
       "    parent_stat:           Weekly Mean\n",
       "    standard_name:         sea_surface_temperature\n",
       "    cell_methods:          time: mean (monthly from weekly values interpolate...\n",
       "    valid_range:           [-500 4000]"
      ]
     },
     "execution_count": 3,
     "metadata": {},
     "output_type": "execute_result"
    }
   ],
   "source": [
    "ds['sst']"
   ]
  },
  {
   "cell_type": "code",
   "execution_count": 4,
   "metadata": {},
   "outputs": [
    {
     "data": {
      "text/plain": [
       "'degC'"
      ]
     },
     "execution_count": 4,
     "metadata": {},
     "output_type": "execute_result"
    }
   ],
   "source": [
    "units=ds['sst'].attrs['units']\n",
    "units"
   ]
  },
  {
   "cell_type": "code",
   "execution_count": 5,
   "metadata": {},
   "outputs": [
    {
     "data": {
      "text/plain": [
       "<xarray.DataArray 'sst' (time: 461, lat: 180, lon: 360)>\n",
       "[29872800 values with dtype=float32]\n",
       "Coordinates:\n",
       "  * lat      (lat) float32 89.5 88.5 87.5 86.5 85.5 ... -86.5 -87.5 -88.5 -89.5\n",
       "  * lon      (lon) float32 0.5 1.5 2.5 3.5 4.5 ... 355.5 356.5 357.5 358.5 359.5\n",
       "  * time     (time) datetime64[ns] 1981-12-01 1982-01-01 ... 2020-04-01\n",
       "Attributes:\n",
       "    long_name:             Monthly Mean of Sea Surface Temperature\n",
       "    unpacked_valid_range:  [-5. 40.]\n",
       "    actual_range:          [-1.7999996 35.56862  ]\n",
       "    units:                 degC\n",
       "    precision:             2\n",
       "    var_desc:              Sea Surface Temperature\n",
       "    dataset:               NOAA Optimum Interpolation (OI) SST V2\n",
       "    level_desc:            Surface\n",
       "    statistic:             Mean\n",
       "    parent_stat:           Weekly Mean\n",
       "    standard_name:         sea_surface_temperature\n",
       "    cell_methods:          time: mean (monthly from weekly values interpolate...\n",
       "    valid_range:           [-500 4000]"
      ]
     },
     "execution_count": 5,
     "metadata": {},
     "output_type": "execute_result"
    }
   ],
   "source": [
    "ds['sst']"
   ]
  },
  {
   "cell_type": "code",
   "execution_count": 6,
   "metadata": {},
   "outputs": [
    {
     "data": {
      "text/plain": [
       "<xarray.DataArray 'sst' (time: 461, lat: 180, lon: 360)>\n",
       "[29872800 values with dtype=float32]\n",
       "Coordinates:\n",
       "  * lat      (lat) float32 89.5 88.5 87.5 86.5 85.5 ... -86.5 -87.5 -88.5 -89.5\n",
       "  * lon      (lon) float32 0.5 1.5 2.5 3.5 4.5 ... 355.5 356.5 357.5 358.5 359.5\n",
       "  * time     (time) datetime64[ns] 1981-12-01 1982-01-01 ... 2020-04-01\n",
       "Attributes:\n",
       "    long_name:             Monthly Mean of Sea Surface Temperature\n",
       "    unpacked_valid_range:  [-5. 40.]\n",
       "    actual_range:          [-1.7999996 35.56862  ]\n",
       "    units:                 degC\n",
       "    precision:             2\n",
       "    var_desc:              Sea Surface Temperature\n",
       "    dataset:               NOAA Optimum Interpolation (OI) SST V2\n",
       "    level_desc:            Surface\n",
       "    statistic:             Mean\n",
       "    parent_stat:           Weekly Mean\n",
       "    standard_name:         sea_surface_temperature\n",
       "    cell_methods:          time: mean (monthly from weekly values interpolate...\n",
       "    valid_range:           [-500 4000]"
      ]
     },
     "execution_count": 6,
     "metadata": {},
     "output_type": "execute_result"
    }
   ],
   "source": [
    "ds.sst"
   ]
  },
  {
   "cell_type": "code",
   "execution_count": 7,
   "metadata": {},
   "outputs": [
    {
     "data": {
      "text/plain": [
       "<xarray.Dataset>\n",
       "Dimensions:    (nbnds: 2, time: 461)\n",
       "Coordinates:\n",
       "    lat        float32 0.5\n",
       "    lon        float32 180.5\n",
       "  * time       (time) datetime64[ns] 1981-12-01 1982-01-01 ... 2020-04-01\n",
       "Dimensions without coordinates: nbnds\n",
       "Data variables:\n",
       "    sst        (time) float32 ...\n",
       "    time_bnds  (time, nbnds) datetime64[ns] ...\n",
       "Attributes:\n",
       "    title:          NOAA Optimum Interpolation (OI) SST V2\n",
       "    Conventions:    CF-1.0\n",
       "    history:        Wed Apr  6 13:47:45 2005: ncks -d time,0,278 SAVEs/sst.mn...\n",
       "    comments:       Data described in  Reynolds, R.W., N.A. Rayner, T.M.\\nSmi...\n",
       "    platform:       Model\n",
       "    source:         NCEP Climate Modeling Branch\n",
       "    institution:    National Centers for Environmental Prediction\n",
       "    References:     https://www.psl.noaa.gov/data/gridded/data.noaa.oisst.v2....\n",
       "    dataset_title:  NOAA Optimum Interpolation (OI) SST V2\n",
       "    source_url:     http://www.emc.ncep.noaa.gov/research/cmb/sst_analysis/"
      ]
     },
     "execution_count": 7,
     "metadata": {},
     "output_type": "execute_result"
    }
   ],
   "source": [
    "ds_point=ds.sel(lat=0,lon=180,method='nearest')\n",
    "ds_point"
   ]
  },
  {
   "cell_type": "code",
   "execution_count": 8,
   "metadata": {},
   "outputs": [
    {
     "name": "stderr",
     "output_type": "stream",
     "text": [
      "/opt/anaconda3/lib/python3.7/site-packages/pandas/plotting/_matplotlib/converter.py:103: FutureWarning: Using an implicitly registered datetime converter for a matplotlib plotting method. The converter was registered by pandas on import. Future versions of pandas will require you to explicitly register matplotlib converters.\n",
      "\n",
      "To register the converters:\n",
      "\t>>> from pandas.plotting import register_matplotlib_converters\n",
      "\t>>> register_matplotlib_converters()\n",
      "  warnings.warn(msg, FutureWarning)\n"
     ]
    },
    {
     "data": {
      "text/plain": [
       "[<matplotlib.lines.Line2D at 0x7f4f1817dac8>]"
      ]
     },
     "execution_count": 8,
     "metadata": {},
     "output_type": "execute_result"
    },
    {
     "data": {
      "image/png": "[encoded data removed]",
      "text/plain": [
       "<Figure size 432x288 with 1 Axes>"
      ]
     },
     "metadata": {
      "needs_background": "light"
     },
     "output_type": "display_data"
    }
   ],
   "source": [
    "plt.plot(ds_point['time'],ds_point['sst'])"
   ]
  },
  {
   "cell_type": "code",
   "execution_count": 9,
   "metadata": {},
   "outputs": [
    {
     "data": {
      "text/plain": [
       "<xarray.Dataset>\n",
       "Dimensions:    (lat: 180, lon: 360, nbnds: 2, time: 461)\n",
       "Coordinates:\n",
       "  * lat        (lat) float32 89.5 88.5 87.5 86.5 ... -86.5 -87.5 -88.5 -89.5\n",
       "  * lon        (lon) float32 0.5 1.5 2.5 3.5 4.5 ... 356.5 357.5 358.5 359.5\n",
       "  * time       (time) datetime64[ns] 1981-12-01 1982-01-01 ... 2020-04-01\n",
       "Dimensions without coordinates: nbnds\n",
       "Data variables:\n",
       "    sst        (time, lat, lon) float32 ...\n",
       "    time_bnds  (time, nbnds) datetime64[ns] ...\n",
       "Attributes:\n",
       "    title:          NOAA Optimum Interpolation (OI) SST V2\n",
       "    Conventions:    CF-1.0\n",
       "    history:        Wed Apr  6 13:47:45 2005: ncks -d time,0,278 SAVEs/sst.mn...\n",
       "    comments:       Data described in  Reynolds, R.W., N.A. Rayner, T.M.\\nSmi...\n",
       "    platform:       Model\n",
       "    source:         NCEP Climate Modeling Branch\n",
       "    institution:    National Centers for Environmental Prediction\n",
       "    References:     https://www.psl.noaa.gov/data/gridded/data.noaa.oisst.v2....\n",
       "    dataset_title:  NOAA Optimum Interpolation (OI) SST V2\n",
       "    source_url:     http://www.emc.ncep.noaa.gov/research/cmb/sst_analysis/"
      ]
     },
     "execution_count": 9,
     "metadata": {},
     "output_type": "execute_result"
    }
   ],
   "source": [
    "ds"
   ]
  },
  {
   "cell_type": "code",
   "execution_count": 10,
   "metadata": {},
   "outputs": [
    {
     "data": {
      "text/plain": [
       "<xarray.Dataset>\n",
       "Dimensions:    (lat: 0, lon: 50, nbnds: 2, time: 461)\n",
       "Coordinates:\n",
       "  * lat        (lat) float32 \n",
       "  * lon        (lon) float32 190.5 191.5 192.5 193.5 ... 236.5 237.5 238.5 239.5\n",
       "  * time       (time) datetime64[ns] 1981-12-01 1982-01-01 ... 2020-04-01\n",
       "Dimensions without coordinates: nbnds\n",
       "Data variables:\n",
       "    sst        (time, lat, lon) float32 ...\n",
       "    time_bnds  (time, nbnds) datetime64[ns] ...\n",
       "Attributes:\n",
       "    title:          NOAA Optimum Interpolation (OI) SST V2\n",
       "    Conventions:    CF-1.0\n",
       "    history:        Wed Apr  6 13:47:45 2005: ncks -d time,0,278 SAVEs/sst.mn...\n",
       "    comments:       Data described in  Reynolds, R.W., N.A. Rayner, T.M.\\nSmi...\n",
       "    platform:       Model\n",
       "    source:         NCEP Climate Modeling Branch\n",
       "    institution:    National Centers for Environmental Prediction\n",
       "    References:     https://www.psl.noaa.gov/data/gridded/data.noaa.oisst.v2....\n",
       "    dataset_title:  NOAA Optimum Interpolation (OI) SST V2\n",
       "    source_url:     http://www.emc.ncep.noaa.gov/research/cmb/sst_analysis/"
      ]
     },
     "execution_count": 10,
     "metadata": {},
     "output_type": "execute_result"
    }
   ],
   "source": [
    "ds_nino34=ds.sel(lon=slice(360-170,360-120),lat=slice(-5,5))\n",
    "ds_nino34"
   ]
  },
  {
   "cell_type": "code",
   "execution_count": 11,
   "metadata": {},
   "outputs": [
    {
     "data": {
      "text/plain": [
       "<xarray.Dataset>\n",
       "Dimensions:    (lat: 180, lon: 360, nbnds: 2, time: 461)\n",
       "Coordinates:\n",
       "  * lat        (lat) float64 -89.5 -88.5 -87.5 -86.5 ... 86.5 87.5 88.5 89.5\n",
       "  * lon        (lon) float32 0.5 1.5 2.5 3.5 4.5 ... 356.5 357.5 358.5 359.5\n",
       "  * time       (time) datetime64[ns] 1981-12-01 1982-01-01 ... 2020-04-01\n",
       "Dimensions without coordinates: nbnds\n",
       "Data variables:\n",
       "    sst        (time, lat, lon) float32 ...\n",
       "    time_bnds  (time, nbnds) datetime64[ns] 1981-12-01 1982-01-01 ... 2020-05-01\n",
       "Attributes:\n",
       "    title:          NOAA Optimum Interpolation (OI) SST V2\n",
       "    Conventions:    CF-1.0\n",
       "    history:        Wed Apr  6 13:47:45 2005: ncks -d time,0,278 SAVEs/sst.mn...\n",
       "    comments:       Data described in  Reynolds, R.W., N.A. Rayner, T.M.\\nSmi...\n",
       "    platform:       Model\n",
       "    source:         NCEP Climate Modeling Branch\n",
       "    institution:    National Centers for Environmental Prediction\n",
       "    References:     https://www.psl.noaa.gov/data/gridded/data.noaa.oisst.v2....\n",
       "    dataset_title:  NOAA Optimum Interpolation (OI) SST V2\n",
       "    source_url:     http://www.emc.ncep.noaa.gov/research/cmb/sst_analysis/"
      ]
     },
     "execution_count": 11,
     "metadata": {},
     "output_type": "execute_result"
    }
   ],
   "source": [
    "ds=ds.reindex(lat=list(reversed(ds['lat'])))\n",
    "ds"
   ]
  },
  {
   "cell_type": "code",
   "execution_count": 12,
   "metadata": {},
   "outputs": [
    {
     "data": {
      "text/plain": [
       "<xarray.Dataset>\n",
       "Dimensions:    (lat: 10, lon: 50, nbnds: 2, time: 461)\n",
       "Coordinates:\n",
       "  * lat        (lat) float64 -4.5 -3.5 -2.5 -1.5 -0.5 0.5 1.5 2.5 3.5 4.5\n",
       "  * lon        (lon) float32 190.5 191.5 192.5 193.5 ... 236.5 237.5 238.5 239.5\n",
       "  * time       (time) datetime64[ns] 1981-12-01 1982-01-01 ... 2020-04-01\n",
       "Dimensions without coordinates: nbnds\n",
       "Data variables:\n",
       "    sst        (time, lat, lon) float32 ...\n",
       "    time_bnds  (time, nbnds) datetime64[ns] 1981-12-01 1982-01-01 ... 2020-05-01\n",
       "Attributes:\n",
       "    title:          NOAA Optimum Interpolation (OI) SST V2\n",
       "    Conventions:    CF-1.0\n",
       "    history:        Wed Apr  6 13:47:45 2005: ncks -d time,0,278 SAVEs/sst.mn...\n",
       "    comments:       Data described in  Reynolds, R.W., N.A. Rayner, T.M.\\nSmi...\n",
       "    platform:       Model\n",
       "    source:         NCEP Climate Modeling Branch\n",
       "    institution:    National Centers for Environmental Prediction\n",
       "    References:     https://www.psl.noaa.gov/data/gridded/data.noaa.oisst.v2....\n",
       "    dataset_title:  NOAA Optimum Interpolation (OI) SST V2\n",
       "    source_url:     http://www.emc.ncep.noaa.gov/research/cmb/sst_analysis/"
      ]
     },
     "execution_count": 12,
     "metadata": {},
     "output_type": "execute_result"
    }
   ],
   "source": [
    "ds_nino34=ds.sel(lon=slice(360-170,360-120),lat=slice(-5,5))\n",
    "ds_nino34"
   ]
  },
  {
   "cell_type": "code",
   "execution_count": 13,
   "metadata": {},
   "outputs": [
    {
     "data": {
      "text/plain": [
       "<matplotlib.colorbar.Colorbar at 0x7f4f180593c8>"
      ]
     },
     "execution_count": 13,
     "metadata": {},
     "output_type": "execute_result"
    },
    {
     "data": {
      "image/png": "[encoded data removed]",
      "text/plain": [
       "<Figure size 432x288 with 2 Axes>"
      ]
     },
     "metadata": {
      "needs_background": "light"
     },
     "output_type": "display_data"
    }
   ],
   "source": [
    "plt.contourf(ds_nino34['lon'],ds_nino34['lat'],\n",
    "            ds_nino34['sst'][0,:,:],cmap='RdBu_r')\n",
    "plt.colorbar()"
   ]
  },
  {
   "cell_type": "code",
   "execution_count": 14,
   "metadata": {},
   "outputs": [
    {
     "data": {
      "text/plain": [
       "<xarray.DataArray 'time' (time: 461)>\n",
       "array(['1981-12-01T00:00:00.000000000', '1982-01-01T00:00:00.000000000',\n",
       "       '1982-02-01T00:00:00.000000000', ..., '2020-02-01T00:00:00.000000000',\n",
       "       '2020-03-01T00:00:00.000000000', '2020-04-01T00:00:00.000000000'],\n",
       "      dtype='datetime64[ns]')\n",
       "Coordinates:\n",
       "  * time     (time) datetime64[ns] 1981-12-01 1982-01-01 ... 2020-04-01\n",
       "Attributes:\n",
       "    long_name:        Time\n",
       "    actual_range:     [66443. 80444.]\n",
       "    delta_t:          0000-01-00 00:00:00\n",
       "    avg_period:       0000-01-00 00:00:00\n",
       "    prev_avg_period:  0000-00-07 00:00:00\n",
       "    standard_name:    time\n",
       "    axis:             T\n",
       "    bounds:           time_bnds"
      ]
     },
     "execution_count": 14,
     "metadata": {},
     "output_type": "execute_result"
    }
   ],
   "source": [
    "ds['time']"
   ]
  },
  {
   "cell_type": "code",
   "execution_count": 18,
   "metadata": {},
   "outputs": [
    {
     "data": {
      "text/plain": [
       "<xarray.Dataset>\n",
       "Dimensions:    (lat: 10, lon: 50, nbnds: 2, time: 456)\n",
       "Coordinates:\n",
       "  * lat        (lat) float64 -4.5 -3.5 -2.5 -1.5 -0.5 0.5 1.5 2.5 3.5 4.5\n",
       "  * lon        (lon) float32 190.5 191.5 192.5 193.5 ... 236.5 237.5 238.5 239.5\n",
       "  * time       (time) datetime64[ns] 1982-01-01 1982-02-01 ... 2019-12-01\n",
       "Dimensions without coordinates: nbnds\n",
       "Data variables:\n",
       "    sst        (time, lat, lon) float32 ...\n",
       "    time_bnds  (time, nbnds) datetime64[ns] 1982-01-01 1982-02-01 ... 2020-01-01\n",
       "Attributes:\n",
       "    title:          NOAA Optimum Interpolation (OI) SST V2\n",
       "    Conventions:    CF-1.0\n",
       "    history:        Wed Apr  6 13:47:45 2005: ncks -d time,0,278 SAVEs/sst.mn...\n",
       "    comments:       Data described in  Reynolds, R.W., N.A. Rayner, T.M.\\nSmi...\n",
       "    platform:       Model\n",
       "    source:         NCEP Climate Modeling Branch\n",
       "    institution:    National Centers for Environmental Prediction\n",
       "    References:     https://www.psl.noaa.gov/data/gridded/data.noaa.oisst.v2....\n",
       "    dataset_title:  NOAA Optimum Interpolation (OI) SST V2\n",
       "    source_url:     http://www.emc.ncep.noaa.gov/research/cmb/sst_analysis/"
      ]
     },
     "execution_count": 18,
     "metadata": {},
     "output_type": "execute_result"
    }
   ],
   "source": [
    "ds_nino34=ds_nino34.sel(time=slice('1982-01-01','2019-12-01'))\n",
    "ds_nino34"
   ]
  },
  {
   "cell_type": "code",
   "execution_count": 19,
   "metadata": {},
   "outputs": [],
   "source": [
    "ds_nino34.to_netcdf('/scratch/kpegion/nino34_1982-2019.oisstv2.nc')"
   ]
  },
  {
   "cell_type": "code",
   "execution_count": null,
   "metadata": {},
   "outputs": [],
   "source": []
  }
 ],
 "metadata": {
  "kernelspec": {
   "display_name": "Python 3",
   "language": "python",
   "name": "python3"
  },
  "language_info": {
   "codemirror_mode": {
    "name": "ipython",
    "version": 3
   },
   "file_extension": ".py",
   "mimetype": "text/x-python",
   "name": "python",
   "nbconvert_exporter": "python",
   "pygments_lexer": "ipython3",
   "version": "3.7.8"
  }
 },
 "nbformat": 4,
 "nbformat_minor": 4
}
