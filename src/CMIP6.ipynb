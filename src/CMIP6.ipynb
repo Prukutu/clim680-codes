{
 "cells": [
  {
   "cell_type": "markdown",
   "metadata": {},
   "source": [
    "### CMIP6 Data from Google Cloud Storage\n",
    "\n",
    "Details on CMIP data can be found here: https://pcmdi.llnl.gov/CMIP6/Guide/dataUsers.html & https://docs.google.com/document/d/1yUx6jr9EdedCOLd--CPdTfGDwEwzPpCF6p1jRmqx-0Q/edit\n",
    "\n",
    "This notebook follows from these articles:\n",
    "\n",
    "https://medium.com/pangeo/cmip6-in-the-cloud-five-ways-96b177abe396\n",
    "\n",
    "https://github.com/pangeo-data/pangeo-cmip6-examples/blob/master/intake_ESM_example.ipynb"
   ]
  },
  {
   "cell_type": "code",
   "execution_count": null,
   "metadata": {},
   "outputs": [],
   "source": [
    "import xarray as xr\n",
    "import pandas as pd\n",
    "import intake\n",
    "import matplotlib.pyplot as plt"
   ]
  },
  {
   "cell_type": "markdown",
   "metadata": {},
   "source": [
    "### Open the intake catalog\n",
    "\n",
    "This is a table that can be turned into a pandas Dataframe.  It gives us a standard set of information about the available data.\n",
    "\n",
    "We can then search on that information to find what datasets we want. "
   ]
  },
  {
   "cell_type": "code",
   "execution_count": null,
   "metadata": {},
   "outputs": [],
   "source": [
    "cat_url = \"https://storage.googleapis.com/cmip6/pangeo-cmip6.json\"\n",
    "col = intake.open_esm_datastore(cat_url)\n",
    "col"
   ]
  },
  {
   "cell_type": "code",
   "execution_count": null,
   "metadata": {},
   "outputs": [],
   "source": [
    "col.df.head()"
   ]
  },
  {
   "cell_type": "markdown",
   "metadata": {},
   "source": [
    "### What are the possible experiments I can choose from?"
   ]
  },
  {
   "cell_type": "code",
   "execution_count": null,
   "metadata": {},
   "outputs": [],
   "source": [
    "col.df.experiment_id.unique()"
   ]
  },
  {
   "cell_type": "markdown",
   "metadata": {},
   "source": [
    "### Find the data for a specific experiment and model"
   ]
  },
  {
   "cell_type": "code",
   "execution_count": null,
   "metadata": {},
   "outputs": [],
   "source": [
    "cat = col.search(experiment_id='historical', \n",
    "                 table_id='Oyr', variable_id='o2',\n",
    "                 grid_label='gn',institution_id='CCCma',\n",
    "                source_id='CanESM5',\n",
    "                member_id='r1i1p1f1')\n",
    "cat.df"
   ]
  },
  {
   "cell_type": "markdown",
   "metadata": {},
   "source": [
    "### Get the names of the files we selected from Google cloud storage"
   ]
  },
  {
   "cell_type": "code",
   "execution_count": null,
   "metadata": {},
   "outputs": [],
   "source": [
    "datasets = cat.to_dataset_dict()\n",
    "datasets\n",
    "list(datasets.keys())"
   ]
  },
  {
   "cell_type": "code",
   "execution_count": null,
   "metadata": {},
   "outputs": [],
   "source": [
    "ds = datasets['CMIP.CCCma.CanESM5.historical.Oyr.gn']\n",
    "ds"
   ]
  },
  {
   "cell_type": "code",
   "execution_count": null,
   "metadata": {},
   "outputs": [],
   "source": [
    "ds['o2']"
   ]
  },
  {
   "cell_type": "code",
   "execution_count": null,
   "metadata": {},
   "outputs": [],
   "source": [
    "plt.contourf(ds['o2'][0,0,0,:,:])\n",
    "plt.title('Dissolved Oxygen Concentration[mol m-3]')\n",
    "plt.colorbar() ;"
   ]
  },
  {
   "cell_type": "code",
   "execution_count": null,
   "metadata": {},
   "outputs": [],
   "source": [
    "# Plot illustrating the irregular grid\n",
    "fig = plt.figure(figsize=(16,9))\n",
    "plt.scatter(ds['longitude'],ds['latitude'],c=ds['o2'][0,-1,0,:,:]-ds['o2'][0,0,0,:,:],s=0.3)\n",
    "plt.colorbar()\n",
    "plt.title('Change in Dissolved Oxygen Concentrations [$mol \\; m^{-3}$]') ;"
   ]
  },
  {
   "cell_type": "markdown",
   "metadata": {},
   "source": [
    "## Alternatives\n",
    "There are a number of ways to access data in the _cloud_, and the details will vary depending on the service (Amazon AWS, Microsoft Azure, Google Cloud, IBM, Oracle,... etc.).\n",
    "\n",
    "In this case (Google Cloud Services), there is an alternative called Google Colaboratory (or Google Colab) where you can run in a Jupyter-like environment on Goggle's own servers. If you have a gmail account, [this is actually part](https://colab.research.google.com) of your \"Googlesphere\" of services. [Here is an interactive example](https://colab.research.google.com/drive/19iEVxE_9QoTeg4st7MmucHJUmO93NXHp#scrollTo=z51j4O2nO754) using Google Colab for CMIP6 data analysis. This is a favorite platform for machine learning applications.\n",
    "\n",
    "Specific to geoscience applicatons, there is also [Pangeo](https://pangeo.io/index.html), a community platform for Big Data geoscience. Pangeo includes the [Pangeo Cloud](https://pangeo.io/cloud.html)."
   ]
  },
  {
   "cell_type": "code",
   "execution_count": null,
   "metadata": {},
   "outputs": [],
   "source": []
  }
 ],
 "metadata": {
  "kernelspec": {
   "display_name": "clim_data",
   "language": "python",
   "name": "clim_data"
  },
  "language_info": {
   "codemirror_mode": {
    "name": "ipython",
    "version": 3
   },
   "file_extension": ".py",
   "mimetype": "text/x-python",
   "name": "python",
   "nbconvert_exporter": "python",
   "pygments_lexer": "ipython3",
   "version": "3.10.4"
  }
 },
 "nbformat": 4,
 "nbformat_minor": 4
}
