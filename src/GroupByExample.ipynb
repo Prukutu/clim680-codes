{
 "cells": [
  {
   "cell_type": "markdown",
   "metadata": {},
   "source": [
    "## The `groupby` function\n",
    "\n",
    "Groupby can be used to organize data in specific ways and then apply an aggregator over the data under that organization. Groupby is often done to combine data in different time grouping and common aggregations are mean() or std(). \n",
    "\n",
    "This is typically referred to as `split-apply-combine`:\n",
    "\n",
    "* Split your data into multiple independent groups.\n",
    "* Apply some function to each group.\n",
    "* Combine your groups back into a single data object."
   ]
  },
  {
   "cell_type": "code",
   "execution_count": null,
   "metadata": {},
   "outputs": [],
   "source": [
    "import xarray as xr\n",
    "import matplotlib.pyplot as plt\n",
    "import numpy as np"
   ]
  },
  {
   "cell_type": "markdown",
   "metadata": {},
   "source": [
    "We will read in some sea surface temperature data (SST)"
   ]
  },
  {
   "cell_type": "code",
   "execution_count": null,
   "metadata": {},
   "outputs": [],
   "source": [
    "path = '/home/lortizur/clim680/OISSTv2'\n",
    "subdir = 'monthly'\n",
    "file = 'sst.mnmean.nc'"
   ]
  },
  {
   "cell_type": "code",
   "execution_count": null,
   "metadata": {},
   "outputs": [],
   "source": [
    "ds = xr.open_dataset(path+'/'+subdir+'/'+file)\n",
    "ds"
   ]
  },
  {
   "cell_type": "code",
   "execution_count": null,
   "metadata": {},
   "outputs": [],
   "source": [
    "subdir = 'lmask'\n",
    "file = 'lsmask.nc'\n",
    "ds_mask = xr.open_dataset(path+'/'+subdir+'/'+file).squeeze()\n",
    "ds_mask"
   ]
  },
  {
   "cell_type": "code",
   "execution_count": null,
   "metadata": {},
   "outputs": [],
   "source": [
    "da_ocean = ds['sst'].where(ds_mask['mask']==1)"
   ]
  },
  {
   "cell_type": "markdown",
   "metadata": {},
   "source": [
    "### We can use `groupby` to make seasonal means"
   ]
  },
  {
   "cell_type": "code",
   "execution_count": null,
   "metadata": {},
   "outputs": [],
   "source": [
    "da_seas = da_ocean.groupby('time.season').mean()\n",
    "da_seas"
   ]
  },
  {
   "cell_type": "code",
   "execution_count": null,
   "metadata": {},
   "outputs": [],
   "source": [
    "plt.contourf(da_seas.lon,da_seas.lat,da_seas.sel(season='DJF'),cmap='coolwarm')\n",
    "plt.colorbar()"
   ]
  },
  {
   "cell_type": "markdown",
   "metadata": {},
   "source": [
    "### Or seasonal standard deviations or variances"
   ]
  },
  {
   "cell_type": "code",
   "execution_count": null,
   "metadata": {},
   "outputs": [],
   "source": [
    "da_seas_std = da_ocean.groupby('time.season').std()\n",
    "plt.contourf(da_seas_std.lon,da_seas_std.lat,da_seas_std.sel(season='DJF'),cmap='cubehelix_r')\n",
    "plt.colorbar()"
   ]
  },
  {
   "cell_type": "code",
   "execution_count": null,
   "metadata": {},
   "outputs": [],
   "source": [
    "da_seas_var = da_ocean.groupby('time.season').var()\n",
    "plt.contourf(da_seas_var.lon,da_seas_var.lat,da_seas_var.sel(season='DJF'),cmap='cubehelix_r')\n",
    "plt.colorbar()"
   ]
  },
  {
   "cell_type": "markdown",
   "metadata": {},
   "source": [
    "### We can also groupby other time increments such as `month`"
   ]
  },
  {
   "cell_type": "code",
   "execution_count": null,
   "metadata": {},
   "outputs": [],
   "source": [
    "da_month = da_ocean.groupby('time.month').mean()\n",
    "da_month"
   ]
  },
  {
   "cell_type": "code",
   "execution_count": null,
   "metadata": {},
   "outputs": [],
   "source": [
    "da_month_std = da_ocean.groupby('time.month').std()\n",
    "plt.contourf(da_seas_std.lon,da_seas_std.lat,da_month_std.sel(month=12),cmap='cubehelix_r')\n",
    "plt.colorbar()"
   ]
  },
  {
   "cell_type": "code",
   "execution_count": null,
   "metadata": {},
   "outputs": [],
   "source": [
    "plt.contourf(da_seas_std.lon,da_seas_std.lat,da_month_std.sel(month=4),cmap='cubehelix_r')\n",
    "plt.colorbar()"
   ]
  },
  {
   "cell_type": "code",
   "execution_count": null,
   "metadata": {},
   "outputs": [],
   "source": []
  }
 ],
 "metadata": {
  "kernelspec": {
   "display_name": "clim_data",
   "language": "python",
   "name": "clim_data"
  },
  "language_info": {
   "codemirror_mode": {
    "name": "ipython",
    "version": 3
   },
   "file_extension": ".py",
   "mimetype": "text/x-python",
   "name": "python",
   "nbconvert_exporter": "python",
   "pygments_lexer": "ipython3",
   "version": "3.10.4"
  }
 },
 "nbformat": 4,
 "nbformat_minor": 4
}
