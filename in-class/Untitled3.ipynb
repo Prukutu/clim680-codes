{
 "cells": [
  {
   "cell_type": "code",
   "execution_count": 1,
   "metadata": {},
   "outputs": [],
   "source": [
    "import xarray as xr\n",
    "import numpy as np\n",
    "import matplotlib.pyplot as plt\n",
    "import cartopy.crs as ccrs\n",
    "import xesmf as xe"
   ]
  },
  {
   "cell_type": "code",
   "execution_count": 2,
   "metadata": {},
   "outputs": [],
   "source": [
    "path='/scratch/jgaigala/'\n",
    "file='asr15km.anl.2D.200001.mon.nc'\n",
    "var='SNOALB'"
   ]
  },
  {
   "cell_type": "code",
   "execution_count": 3,
   "metadata": {},
   "outputs": [
    {
     "data": {
      "text/plain": [
       "<xarray.Dataset>\n",
       "Dimensions:   (Time: 1, lev: 4, x: 720, y: 720)\n",
       "Coordinates:\n",
       "  * Time      (Time) datetime64[ns] 2000-01-16T11:00:00\n",
       "    XLAT      (y, x) float32 ...\n",
       "    XLONG     (y, x) float32 ...\n",
       "  * lev       (lev) float64 1.0 2.0 3.0 4.0\n",
       "Dimensions without coordinates: x, y\n",
       "Data variables:\n",
       "    DateTime  (Time) int32 ...\n",
       "    ALBBCK    (Time, y, x) float32 ...\n",
       "    ALBEDO    (Time, y, x) float32 ...\n",
       "    ALBSI     (Time, y, x) float32 ...\n",
       "    ICEDEPTH  (Time, y, x) float32 ...\n",
       "    ISLTYP    (Time, y, x) int32 ...\n",
       "    IVGTYP    (Time, y, x) int32 ...\n",
       "    LAI       (Time, y, x) float32 ...\n",
       "    LANDMASK  (Time, y, x) float32 ...\n",
       "    LU_INDEX  (Time, y, x) float32 ...\n",
       "    PMSL      (Time, y, x) float32 ...\n",
       "    PSFC      (Time, y, x) float32 ...\n",
       "    Q2M       (Time, y, x) float32 ...\n",
       "    RH2M      (Time, y, x) float32 ...\n",
       "    SEAICE    (Time, y, x) float32 ...\n",
       "    SH2O      (Time, lev, y, x) float32 ...\n",
       "    SKINTEMP  (Time, y, x) float32 ...\n",
       "    SMOIS     (Time, lev, y, x) float32 ...\n",
       "    SNOALB    (Time, y, x) float32 ...\n",
       "    SNOW      (Time, y, x) float32 ...\n",
       "    SNOWC     (Time, y, x) float32 ...\n",
       "    SNOWH     (Time, y, x) float32 ...\n",
       "    SST       (Time, y, x) float32 ...\n",
       "    T2M       (Time, y, x) float32 ...\n",
       "    TSLB      (Time, lev, y, x) float32 ...\n",
       "    U10E      (Time, y, x) float32 ...\n",
       "    U10M      (Time, y, x) float32 ...\n",
       "    V10E      (Time, y, x) float32 ...\n",
       "    V10M      (Time, y, x) float32 ...\n",
       "    VEGFRA    (Time, y, x) float32 ...\n",
       "Attributes:\n",
       "    CDI:                             Climate Data Interface version 1.5.4 (ht...\n",
       "    Conventions:                     CF-1.4\n",
       "    TITLE:                           Arctic System Reanalysis - The Ohio Stat...\n",
       "    WEST-EAST_GRID_DIMENSION:        721\n",
       "    SOUTH-NORTH_GRID_DIMENSION:      721\n",
       "    BOTTOM-TOP_GRID_DIMENSION:       34\n",
       "    GRIDTYPE:                        C\n",
       "    DIFF_OPT:                        1\n",
       "    KM_OPT:                          1\n",
       "    DAMP_OPT:                        0\n",
       "    MP_PHYSICS:                      7\n",
       "    RA_LW_PHYSICS:                   0\n",
       "    RA_SW_PHYSICS:                   0\n",
       "    SF_SFCLAY_PHYSICS:               5\n",
       "    SF_SURFACE_PHYSICS:              2\n",
       "    BL_PBL_PHYSICS:                  1\n",
       "    CU_PHYSICS:                      1\n",
       "    SURFACE_INPUT_SOURCE:            1\n",
       "    SST_UPDATE:                      0\n",
       "    GRID_FDDA:                       0\n",
       "    GFDDA_INTERVAL_M:                0\n",
       "    GFDDA_END_H:                     0\n",
       "    GRID_SFDDA:                      0\n",
       "    SGFDDA_INTERVAL_M:               0\n",
       "    SGFDDA_END_H:                    0\n",
       "    HYPSOMETRIC_OPT:                 1\n",
       "    WEST-EAST_PATCH_START_UNSTAG:    1\n",
       "    WEST-EAST_PATCH_END_UNSTAG:      720\n",
       "    WEST-EAST_PATCH_START_STAG:      1\n",
       "    WEST-EAST_PATCH_END_STAG:        721\n",
       "    SOUTH-NORTH_PATCH_START_UNSTAG:  1\n",
       "    SOUTH-NORTH_PATCH_END_UNSTAG:    720\n",
       "    SOUTH-NORTH_PATCH_START_STAG:    1\n",
       "    SOUTH-NORTH_PATCH_END_STAG:      721\n",
       "    GRID_ID:                         1\n",
       "    PARENT_ID:                       0\n",
       "    PARENT_GRID_RATIO:               1\n",
       "    MAP_PROJ:                        2\n",
       "    MMINLU:                          MODIFIED_IGBP_MODIS_NOAH\n",
       "    NUM_LAND_CAT:                    20\n",
       "    ISWATER:                         17\n",
       "    ISLAKE:                          -1\n",
       "    ISICE:                           15\n",
       "    ISURBAN:                         13\n",
       "    ISOILWATER:                      14\n",
       "    I_PARENT_START:                  1\n",
       "    J_PARENT_START:                  1\n",
       "    IFNDALBSI:                       1\n",
       "    IFNDICEDEPTH:                    1\n",
       "    IFNDSNOWSI:                      1\n",
       "    CDO:                             Climate Data Operators version 1.5.4 (ht...\n",
       "    history:                         Wed Mar 15 21:08:02 2017: ./ncks -C -O -...\n",
       "    NCO:                             4.2.1"
      ]
     },
     "execution_count": 3,
     "metadata": {},
     "output_type": "execute_result"
    }
   ],
   "source": [
    "ds=xr.open_dataset(path+file)\n",
    "ds"
   ]
  },
  {
   "cell_type": "code",
   "execution_count": 4,
   "metadata": {},
   "outputs": [],
   "source": [
    "ds=ds.rename({'XLONG':'lon','XLAT':'lat'})"
   ]
  },
  {
   "cell_type": "code",
   "execution_count": 6,
   "metadata": {},
   "outputs": [],
   "source": [
    "new_lat=np.arange(-90,90.5,0.5)\n",
    "new_lon=np.arange(0,360.1,0.1)\n",
    "\n",
    "ds_out=xr.Dataset({'lat':(['lat'],new_lat),\n",
    "                   'lon':(['lon'],new_lon)\n",
    "                  })"
   ]
  },
  {
   "cell_type": "code",
   "execution_count": 9,
   "metadata": {},
   "outputs": [
    {
     "name": "stdout",
     "output_type": "stream",
     "text": [
      "Overwrite existing file: bilinear_720x720_361x3601.nc \n",
      " You can set reuse_weights=True to save computing time.\n"
     ]
    },
    {
     "ename": "TypeError",
     "evalue": "__call__() takes 2 positional arguments but 3 were given",
     "output_type": "error",
     "traceback": [
      "\u001b[0;31m---------------------------------------------------------------------------\u001b[0m",
      "\u001b[0;31mTypeError\u001b[0m                                 Traceback (most recent call last)",
      "\u001b[0;32m<ipython-input-9-9a4d547ea1ad>\u001b[0m in \u001b[0;36m<module>\u001b[0;34m\u001b[0m\n\u001b[1;32m      1\u001b[0m \u001b[0mregridder\u001b[0m\u001b[0;34m=\u001b[0m\u001b[0mxe\u001b[0m\u001b[0;34m.\u001b[0m\u001b[0mRegridder\u001b[0m\u001b[0;34m(\u001b[0m\u001b[0mds\u001b[0m\u001b[0;34m,\u001b[0m\u001b[0mds_out\u001b[0m\u001b[0;34m,\u001b[0m\u001b[0;34m'bilinear'\u001b[0m\u001b[0;34m)\u001b[0m\u001b[0;34m\u001b[0m\u001b[0;34m\u001b[0m\u001b[0m\n\u001b[0;32m----> 2\u001b[0;31m \u001b[0mdr_out\u001b[0m\u001b[0;34m=\u001b[0m\u001b[0mregridder\u001b[0m\u001b[0;34m(\u001b[0m\u001b[0mds\u001b[0m\u001b[0;34m[\u001b[0m\u001b[0mvar\u001b[0m\u001b[0;34m]\u001b[0m\u001b[0;34m,\u001b[0m\u001b[0mds_out\u001b[0m\u001b[0;34m)\u001b[0m\u001b[0;34m.\u001b[0m\u001b[0mto_dataset\u001b[0m\u001b[0;34m(\u001b[0m\u001b[0mname\u001b[0m\u001b[0;34m=\u001b[0m\u001b[0mvar\u001b[0m\u001b[0;34m)\u001b[0m\u001b[0;34m\u001b[0m\u001b[0;34m\u001b[0m\u001b[0m\n\u001b[0m\u001b[1;32m      3\u001b[0m \u001b[0mdr_out\u001b[0m\u001b[0;34m\u001b[0m\u001b[0;34m\u001b[0m\u001b[0m\n",
      "\u001b[0;31mTypeError\u001b[0m: __call__() takes 2 positional arguments but 3 were given"
     ]
    }
   ],
   "source": [
    "regridder=xe.Regridder(ds,ds_out,'bilinear')\n",
    "dr_out=regridder(ds[var],ds_out).to_dataset(name=var)\n",
    "dr_out"
   ]
  },
  {
   "cell_type": "code",
   "execution_count": null,
   "metadata": {},
   "outputs": [],
   "source": []
  }
 ],
 "metadata": {
  "kernelspec": {
   "display_name": "Python 3",
   "language": "python",
   "name": "python3"
  },
  "language_info": {
   "codemirror_mode": {
    "name": "ipython",
    "version": 3
   },
   "file_extension": ".py",
   "mimetype": "text/x-python",
   "name": "python",
   "nbconvert_exporter": "python",
   "pygments_lexer": "ipython3",
   "version": "3.7.3"
  }
 },
 "nbformat": 4,
 "nbformat_minor": 4
}
